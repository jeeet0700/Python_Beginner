{
  "nbformat": 4,
  "nbformat_minor": 0,
  "metadata": {
    "colab": {
      "name": "W4D9Function_conti_DS.ipynb",
      "provenance": [],
      "authorship_tag": "ABX9TyN5HNPU4mda1xR2on0MOH1E",
      "include_colab_link": true
    },
    "kernelspec": {
      "name": "python3",
      "display_name": "Python 3"
    },
    "language_info": {
      "name": "python"
    }
  },
  "cells": [
    {
      "cell_type": "markdown",
      "metadata": {
        "id": "view-in-github",
        "colab_type": "text"
      },
      "source": [
        "<a href=\"https://colab.research.google.com/github/jeeet0700/Python_Beginner/blob/master/W4D9Function_conti_DS.ipynb\" target=\"_parent\"><img src=\"https://colab.research.google.com/assets/colab-badge.svg\" alt=\"Open In Colab\"/></a>"
      ]
    },
    {
      "cell_type": "markdown",
      "source": [
        "Key word argument"
      ],
      "metadata": {
        "id": "bPBNttP1teTD"
      }
    },
    {
      "cell_type": "code",
      "execution_count": 1,
      "metadata": {
        "id": "wwQM2aVJmJ5N"
      },
      "outputs": [],
      "source": [
        "def intro(name,age,profe):\n",
        "  print(\"Hello\",name)\n",
        "  print(\"I am\",age)\n",
        "  print(\"I am\",profe)"
      ]
    },
    {
      "cell_type": "code",
      "source": [
        "intro(\"Jeet\",20,\"SE\")"
      ],
      "metadata": {
        "colab": {
          "base_uri": "https://localhost:8080/"
        },
        "id": "o33BR8Z6qiN4",
        "outputId": "bcfce39e-10ec-4fb1-83e2-9dcb8f51a9e5"
      },
      "execution_count": 2,
      "outputs": [
        {
          "output_type": "stream",
          "name": "stdout",
          "text": [
            "Hello Jeet\n",
            "I am 20\n",
            "I am SE\n"
          ]
        }
      ]
    },
    {
      "cell_type": "code",
      "source": [
        " intro(name=\"Jeeet\",age=20,profe=\"IT\")"
      ],
      "metadata": {
        "colab": {
          "base_uri": "https://localhost:8080/"
        },
        "id": "ez6WW5H8qnbV",
        "outputId": "53803d9c-5207-4e37-fabe-322ef162bf83"
      },
      "execution_count": 3,
      "outputs": [
        {
          "output_type": "stream",
          "name": "stdout",
          "text": [
            "Hello Jeeet\n",
            "I am 20\n",
            "I am IT\n"
          ]
        }
      ]
    },
    {
      "cell_type": "code",
      "source": [
        "intro(age=20,profe=\"IT\",name=\"Jeeet\")"
      ],
      "metadata": {
        "colab": {
          "base_uri": "https://localhost:8080/"
        },
        "id": "7iG3V7UXs2fu",
        "outputId": "f47bdc61-ce42-4485-be23-441192ac0354"
      },
      "execution_count": 4,
      "outputs": [
        {
          "output_type": "stream",
          "name": "stdout",
          "text": [
            "Hello Jeeet\n",
            "I am 20\n",
            "I am IT\n"
          ]
        }
      ]
    },
    {
      "cell_type": "markdown",
      "source": [
        "Default argument"
      ],
      "metadata": {
        "id": "AEk4LnBZtiC5"
      }
    },
    {
      "cell_type": "code",
      "source": [
        "def intro(name,age,profe=\"HCL\"):\n",
        "  print(\"Hello\",name)\n",
        "  print(\"I am\",age)\n",
        "  print(\"I am\",profe)"
      ],
      "metadata": {
        "id": "sQ8i_nA9s9pA"
      },
      "execution_count": 5,
      "outputs": []
    },
    {
      "cell_type": "code",
      "source": [
        "intro(\"Jeet\",20,profe=\"SE\")"
      ],
      "metadata": {
        "colab": {
          "base_uri": "https://localhost:8080/"
        },
        "id": "huqCo9CsuJli",
        "outputId": "e496d940-0d47-444c-f36a-a9330e417582"
      },
      "execution_count": 6,
      "outputs": [
        {
          "output_type": "stream",
          "name": "stdout",
          "text": [
            "Hello Jeet\n",
            "I am 20\n",
            "I am SE\n"
          ]
        }
      ]
    },
    {
      "cell_type": "code",
      "source": [
        "intro(\"Jeet\",20)"
      ],
      "metadata": {
        "colab": {
          "base_uri": "https://localhost:8080/"
        },
        "id": "Wv5uP4U_tyVF",
        "outputId": "d23409df-fd07-4347-84cb-e41fde8c1c43"
      },
      "execution_count": 7,
      "outputs": [
        {
          "output_type": "stream",
          "name": "stdout",
          "text": [
            "Hello Jeet\n",
            "I am 20\n",
            "I am HCL\n"
          ]
        }
      ]
    },
    {
      "cell_type": "markdown",
      "source": [
        "Data structure"
      ],
      "metadata": {
        "id": "Rkqx2DATzf5l"
      }
    },
    {
      "cell_type": "markdown",
      "source": [
        "Inbuilt DS\n",
        "List\n",
        "Tuple\n",
        "Set\n",
        "Dict"
      ],
      "metadata": {
        "id": "GLs45oT3zs3V"
      }
    },
    {
      "cell_type": "code",
      "source": [
        "name1=\"HCL\"\n",
        "name2=\"Tech Mahi\"\n",
        "name3=\"Wipro\"\n",
        "name4=\"Info\"\n",
        "name='JP M'"
      ],
      "metadata": {
        "id": "ui2UkK7GzbQB"
      },
      "execution_count": 8,
      "outputs": []
    },
    {
      "cell_type": "code",
      "source": [
        "tech= []"
      ],
      "metadata": {
        "id": "u60e1ngV1QiR"
      },
      "execution_count": 9,
      "outputs": []
    },
    {
      "cell_type": "code",
      "source": [
        "type(tech)"
      ],
      "metadata": {
        "colab": {
          "base_uri": "https://localhost:8080/"
        },
        "id": "wlLUtfmq1Vfk",
        "outputId": "c4858200-2834-40e8-e7e3-8bc980783888"
      },
      "execution_count": 10,
      "outputs": [
        {
          "output_type": "execute_result",
          "data": {
            "text/plain": [
              "list"
            ]
          },
          "metadata": {},
          "execution_count": 10
        }
      ]
    },
    {
      "cell_type": "code",
      "source": [
        "tech=[\"HCL\",\"Tech mahi\",\"Wipro\",\"Info\",\"JP M\"]\n",
        "print(tech)"
      ],
      "metadata": {
        "colab": {
          "base_uri": "https://localhost:8080/"
        },
        "id": "fw6H0Dok1XDf",
        "outputId": "f6317980-a577-409a-f4b4-f21f10dbfa99"
      },
      "execution_count": 11,
      "outputs": [
        {
          "output_type": "stream",
          "name": "stdout",
          "text": [
            "['HCL', 'Tech mahi', 'Wipro', 'Info', 'JP M']\n"
          ]
        }
      ]
    },
    {
      "cell_type": "code",
      "source": [
        "print(tech[0])"
      ],
      "metadata": {
        "colab": {
          "base_uri": "https://localhost:8080/"
        },
        "id": "ckTRrUpo1pxs",
        "outputId": "c5ef23f6-0a72-4c43-c9be-3ce1c36f5e4c"
      },
      "execution_count": 12,
      "outputs": [
        {
          "output_type": "stream",
          "name": "stdout",
          "text": [
            "HCL\n"
          ]
        }
      ]
    },
    {
      "cell_type": "code",
      "source": [
        "print(tech[3])"
      ],
      "metadata": {
        "colab": {
          "base_uri": "https://localhost:8080/"
        },
        "id": "nFN2rHma61xO",
        "outputId": "342a1ecf-07ea-4430-abdf-a21b1010dc79"
      },
      "execution_count": 13,
      "outputs": [
        {
          "output_type": "stream",
          "name": "stdout",
          "text": [
            "Info\n"
          ]
        }
      ]
    },
    {
      "cell_type": "code",
      "source": [
        "tech[0]"
      ],
      "metadata": {
        "colab": {
          "base_uri": "https://localhost:8080/",
          "height": 36
        },
        "id": "Hc2KlK3O66ag",
        "outputId": "097faa75-2692-4e7e-8c9c-7c7ceb9340a2"
      },
      "execution_count": 14,
      "outputs": [
        {
          "output_type": "execute_result",
          "data": {
            "text/plain": [
              "'HCL'"
            ],
            "application/vnd.google.colaboratory.intrinsic+json": {
              "type": "string"
            }
          },
          "metadata": {},
          "execution_count": 14
        }
      ]
    },
    {
      "cell_type": "code",
      "source": [
        "tech[-5]"
      ],
      "metadata": {
        "colab": {
          "base_uri": "https://localhost:8080/",
          "height": 36
        },
        "id": "Z55RMBsUYePx",
        "outputId": "1d371f38-44bd-4531-e204-876e3f15b461"
      },
      "execution_count": 15,
      "outputs": [
        {
          "output_type": "execute_result",
          "data": {
            "text/plain": [
              "'HCL'"
            ],
            "application/vnd.google.colaboratory.intrinsic+json": {
              "type": "string"
            }
          },
          "metadata": {},
          "execution_count": 15
        }
      ]
    },
    {
      "cell_type": "code",
      "source": [
        "tech[-5]=\"HCL Tech\""
      ],
      "metadata": {
        "id": "P-VrNdoYYguy"
      },
      "execution_count": 16,
      "outputs": []
    },
    {
      "cell_type": "code",
      "source": [
        "tech"
      ],
      "metadata": {
        "colab": {
          "base_uri": "https://localhost:8080/"
        },
        "id": "SnsRSL74YljP",
        "outputId": "ce4ef653-fdf3-4acd-9c36-f6ffdfb28086"
      },
      "execution_count": 17,
      "outputs": [
        {
          "output_type": "execute_result",
          "data": {
            "text/plain": [
              "['HCL Tech', 'Tech mahi', 'Wipro', 'Info', 'JP M']"
            ]
          },
          "metadata": {},
          "execution_count": 17
        }
      ]
    },
    {
      "cell_type": "code",
      "source": [
        ""
      ],
      "metadata": {
        "id": "DgBVSClVYmb0"
      },
      "execution_count": null,
      "outputs": []
    }
  ]
}