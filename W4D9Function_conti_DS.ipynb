{
  "nbformat": 4,
  "nbformat_minor": 0,
  "metadata": {
    "colab": {
      "name": "W4D9Function_conti_DS.ipynb",
      "provenance": [],
      "authorship_tag": "ABX9TyMKTOFqFt+45XbQi+gpZ4C7",
      "include_colab_link": true
    },
    "kernelspec": {
      "name": "python3",
      "display_name": "Python 3"
    },
    "language_info": {
      "name": "python"
    }
  },
  "cells": [
    {
      "cell_type": "markdown",
      "metadata": {
        "id": "view-in-github",
        "colab_type": "text"
      },
      "source": [
        "<a href=\"https://colab.research.google.com/github/jeeet0700/Python_Beginner/blob/master/W4D9Function_conti_DS.ipynb\" target=\"_parent\"><img src=\"https://colab.research.google.com/assets/colab-badge.svg\" alt=\"Open In Colab\"/></a>"
      ]
    },
    {
      "cell_type": "markdown",
      "source": [
        "Key word argument"
      ],
      "metadata": {
        "id": "bPBNttP1teTD"
      }
    },
    {
      "cell_type": "code",
      "execution_count": 1,
      "metadata": {
        "id": "wwQM2aVJmJ5N"
      },
      "outputs": [],
      "source": [
        "def intro(name,age,profe):\n",
        "  print(\"Hello\",name)\n",
        "  print(\"I am\",age)\n",
        "  print(\"I am\",profe)"
      ]
    },
    {
      "cell_type": "code",
      "source": [
        "intro(\"Jeet\",20,\"SE\")"
      ],
      "metadata": {
        "colab": {
          "base_uri": "https://localhost:8080/"
        },
        "id": "o33BR8Z6qiN4",
        "outputId": "71146c8c-b0f8-4576-924e-b12a9c6f582a"
      },
      "execution_count": 2,
      "outputs": [
        {
          "output_type": "stream",
          "name": "stdout",
          "text": [
            "Hello Jeet\n",
            "I am 20\n",
            "I am SE\n"
          ]
        }
      ]
    },
    {
      "cell_type": "code",
      "source": [
        " intro(name=\"Jeeet\",age=20,profe=\"IT\")"
      ],
      "metadata": {
        "colab": {
          "base_uri": "https://localhost:8080/"
        },
        "id": "ez6WW5H8qnbV",
        "outputId": "4eeafa8c-72df-4193-d1ed-478b1c7fc408"
      },
      "execution_count": 3,
      "outputs": [
        {
          "output_type": "stream",
          "name": "stdout",
          "text": [
            "Hello Jeeet\n",
            "I am 20\n",
            "I am IT\n"
          ]
        }
      ]
    },
    {
      "cell_type": "code",
      "source": [
        "intro(age=20,profe=\"IT\",name=\"Jeeet\")"
      ],
      "metadata": {
        "colab": {
          "base_uri": "https://localhost:8080/"
        },
        "id": "7iG3V7UXs2fu",
        "outputId": "6c507240-17ac-4976-a449-76c40798fbcd"
      },
      "execution_count": 4,
      "outputs": [
        {
          "output_type": "stream",
          "name": "stdout",
          "text": [
            "Hello Jeeet\n",
            "I am 20\n",
            "I am IT\n"
          ]
        }
      ]
    },
    {
      "cell_type": "markdown",
      "source": [
        "Default argument"
      ],
      "metadata": {
        "id": "AEk4LnBZtiC5"
      }
    },
    {
      "cell_type": "code",
      "source": [
        "def intro(name,age,profe=\"HCL\"):\n",
        "  print(\"Hello\",name)\n",
        "  print(\"I am\",age)\n",
        "  print(\"I am\",profe)"
      ],
      "metadata": {
        "id": "sQ8i_nA9s9pA"
      },
      "execution_count": 5,
      "outputs": []
    },
    {
      "cell_type": "code",
      "source": [
        "intro(\"Jeet\",20,profe=\"SE\")"
      ],
      "metadata": {
        "colab": {
          "base_uri": "https://localhost:8080/"
        },
        "id": "huqCo9CsuJli",
        "outputId": "1fc02f6c-13e4-4c37-c47b-0d61035dce1a"
      },
      "execution_count": 6,
      "outputs": [
        {
          "output_type": "stream",
          "name": "stdout",
          "text": [
            "Hello Jeet\n",
            "I am 20\n",
            "I am SE\n"
          ]
        }
      ]
    },
    {
      "cell_type": "code",
      "source": [
        "intro(\"Jeet\",20)"
      ],
      "metadata": {
        "colab": {
          "base_uri": "https://localhost:8080/"
        },
        "id": "Wv5uP4U_tyVF",
        "outputId": "5fb819b6-7308-446f-9e59-1e4ef8afb1db"
      },
      "execution_count": 7,
      "outputs": [
        {
          "output_type": "stream",
          "name": "stdout",
          "text": [
            "Hello Jeet\n",
            "I am 20\n",
            "I am HCL\n"
          ]
        }
      ]
    },
    {
      "cell_type": "markdown",
      "source": [
        "Data structure"
      ],
      "metadata": {
        "id": "Rkqx2DATzf5l"
      }
    },
    {
      "cell_type": "markdown",
      "source": [
        "Inbuilt DS\n",
        "List\n",
        "Tuple\n",
        "Set\n",
        "Dict"
      ],
      "metadata": {
        "id": "GLs45oT3zs3V"
      }
    },
    {
      "cell_type": "code",
      "source": [
        "name1=\"HCL\"\n",
        "name2=\"Tech Mahi\"\n",
        "name3=\"Wipro\"\n",
        "name4=\"Info\"\n",
        "name='JP M'"
      ],
      "metadata": {
        "id": "ui2UkK7GzbQB"
      },
      "execution_count": 8,
      "outputs": []
    },
    {
      "cell_type": "code",
      "source": [
        "tech= []"
      ],
      "metadata": {
        "id": "u60e1ngV1QiR"
      },
      "execution_count": 9,
      "outputs": []
    },
    {
      "cell_type": "code",
      "source": [
        "type(tech)"
      ],
      "metadata": {
        "colab": {
          "base_uri": "https://localhost:8080/"
        },
        "id": "wlLUtfmq1Vfk",
        "outputId": "31796161-b2f6-4fee-ae96-68a0d28a6f63"
      },
      "execution_count": 10,
      "outputs": [
        {
          "output_type": "execute_result",
          "data": {
            "text/plain": [
              "list"
            ]
          },
          "metadata": {},
          "execution_count": 10
        }
      ]
    },
    {
      "cell_type": "code",
      "source": [
        "tech=[\"HCL\",\"Tech mahi\",\"Wipro\",\"Info\",\"JP M\"]\n",
        "print(tech)"
      ],
      "metadata": {
        "colab": {
          "base_uri": "https://localhost:8080/"
        },
        "id": "fw6H0Dok1XDf",
        "outputId": "dd0a3d3f-623f-4d10-e93a-670fb186cc8d"
      },
      "execution_count": 11,
      "outputs": [
        {
          "output_type": "stream",
          "name": "stdout",
          "text": [
            "['HCL', 'Tech mahi', 'Wipro', 'Info', 'JP M']\n"
          ]
        }
      ]
    },
    {
      "cell_type": "code",
      "source": [
        "print(tech[0])"
      ],
      "metadata": {
        "colab": {
          "base_uri": "https://localhost:8080/"
        },
        "id": "ckTRrUpo1pxs",
        "outputId": "63483d10-b293-4286-bca4-3101dee22534"
      },
      "execution_count": 12,
      "outputs": [
        {
          "output_type": "stream",
          "name": "stdout",
          "text": [
            "HCL\n"
          ]
        }
      ]
    },
    {
      "cell_type": "code",
      "source": [
        "print(tech[3])"
      ],
      "metadata": {
        "colab": {
          "base_uri": "https://localhost:8080/"
        },
        "id": "nFN2rHma61xO",
        "outputId": "07e65c67-883e-40f6-99db-631c67f603bd"
      },
      "execution_count": 13,
      "outputs": [
        {
          "output_type": "stream",
          "name": "stdout",
          "text": [
            "Info\n"
          ]
        }
      ]
    },
    {
      "cell_type": "code",
      "source": [
        "tech[0]"
      ],
      "metadata": {
        "colab": {
          "base_uri": "https://localhost:8080/",
          "height": 36
        },
        "id": "Hc2KlK3O66ag",
        "outputId": "6ef018ae-8419-499b-e4e3-d8101a271d32"
      },
      "execution_count": 14,
      "outputs": [
        {
          "output_type": "execute_result",
          "data": {
            "text/plain": [
              "'HCL'"
            ],
            "application/vnd.google.colaboratory.intrinsic+json": {
              "type": "string"
            }
          },
          "metadata": {},
          "execution_count": 14
        }
      ]
    },
    {
      "cell_type": "code",
      "source": [
        "tech[-5]"
      ],
      "metadata": {
        "colab": {
          "base_uri": "https://localhost:8080/",
          "height": 36
        },
        "id": "Z55RMBsUYePx",
        "outputId": "d8ea1d48-e536-4f58-a6bd-8c795e1e1ec5"
      },
      "execution_count": 15,
      "outputs": [
        {
          "output_type": "execute_result",
          "data": {
            "text/plain": [
              "'HCL'"
            ],
            "application/vnd.google.colaboratory.intrinsic+json": {
              "type": "string"
            }
          },
          "metadata": {},
          "execution_count": 15
        }
      ]
    },
    {
      "cell_type": "code",
      "source": [
        "tech[-5]=\"HCL Tech\""
      ],
      "metadata": {
        "id": "P-VrNdoYYguy"
      },
      "execution_count": 16,
      "outputs": []
    },
    {
      "cell_type": "code",
      "source": [
        "tech"
      ],
      "metadata": {
        "colab": {
          "base_uri": "https://localhost:8080/"
        },
        "id": "SnsRSL74YljP",
        "outputId": "593d99a8-c927-49ff-e430-5c7258819a71"
      },
      "execution_count": 17,
      "outputs": [
        {
          "output_type": "execute_result",
          "data": {
            "text/plain": [
              "['HCL Tech', 'Tech mahi', 'Wipro', 'Info', 'JP M']"
            ]
          },
          "metadata": {},
          "execution_count": 17
        }
      ]
    },
    {
      "cell_type": "code",
      "source": [
        "tech[-1]"
      ],
      "metadata": {
        "colab": {
          "base_uri": "https://localhost:8080/",
          "height": 36
        },
        "id": "DgBVSClVYmb0",
        "outputId": "24ae0d93-9595-45bb-d384-f30608592ad0"
      },
      "execution_count": 18,
      "outputs": [
        {
          "output_type": "execute_result",
          "data": {
            "text/plain": [
              "'JP M'"
            ],
            "application/vnd.google.colaboratory.intrinsic+json": {
              "type": "string"
            }
          },
          "metadata": {},
          "execution_count": 18
        }
      ]
    },
    {
      "cell_type": "code",
      "source": [
        "l=[1,2,3,4,5,6,7]"
      ],
      "metadata": {
        "id": "YiesADvMZBPm"
      },
      "execution_count": 19,
      "outputs": []
    },
    {
      "cell_type": "code",
      "source": [
        "l.append(100)"
      ],
      "metadata": {
        "id": "DwxppvEabY47"
      },
      "execution_count": 20,
      "outputs": []
    },
    {
      "cell_type": "code",
      "source": [
        "l"
      ],
      "metadata": {
        "colab": {
          "base_uri": "https://localhost:8080/"
        },
        "id": "yiMXg6E_bazW",
        "outputId": "dbf298a7-835f-4cac-beab-1e84a1a7e714"
      },
      "execution_count": 21,
      "outputs": [
        {
          "output_type": "execute_result",
          "data": {
            "text/plain": [
              "[1, 2, 3, 4, 5, 6, 7, 100]"
            ]
          },
          "metadata": {},
          "execution_count": 21
        }
      ]
    },
    {
      "cell_type": "code",
      "source": [
        "l.append(\"Hello\")"
      ],
      "metadata": {
        "id": "RE1tEIXVbbCm"
      },
      "execution_count": 22,
      "outputs": []
    },
    {
      "cell_type": "code",
      "source": [
        "l"
      ],
      "metadata": {
        "colab": {
          "base_uri": "https://localhost:8080/"
        },
        "id": "QgKpSinQbvFH",
        "outputId": "0d5dd020-7d7c-4876-f749-ff72a3d9983c"
      },
      "execution_count": 23,
      "outputs": [
        {
          "output_type": "execute_result",
          "data": {
            "text/plain": [
              "[1, 2, 3, 4, 5, 6, 7, 100, 'Hello']"
            ]
          },
          "metadata": {},
          "execution_count": 23
        }
      ]
    },
    {
      "cell_type": "code",
      "source": [
        "l.pop()"
      ],
      "metadata": {
        "colab": {
          "base_uri": "https://localhost:8080/",
          "height": 36
        },
        "id": "QfVbNA9XbvV7",
        "outputId": "636ad1bf-39f1-4d15-8632-42dc85ef6904"
      },
      "execution_count": 24,
      "outputs": [
        {
          "output_type": "execute_result",
          "data": {
            "text/plain": [
              "'Hello'"
            ],
            "application/vnd.google.colaboratory.intrinsic+json": {
              "type": "string"
            }
          },
          "metadata": {},
          "execution_count": 24
        }
      ]
    },
    {
      "cell_type": "code",
      "source": [
        "l"
      ],
      "metadata": {
        "colab": {
          "base_uri": "https://localhost:8080/"
        },
        "id": "F1NUwOXecr3Z",
        "outputId": "8ba49442-9529-49a7-b70c-6c7e75e581a9"
      },
      "execution_count": 25,
      "outputs": [
        {
          "output_type": "execute_result",
          "data": {
            "text/plain": [
              "[1, 2, 3, 4, 5, 6, 7, 100]"
            ]
          },
          "metadata": {},
          "execution_count": 25
        }
      ]
    },
    {
      "cell_type": "code",
      "source": [
        "l.pop()"
      ],
      "metadata": {
        "colab": {
          "base_uri": "https://localhost:8080/"
        },
        "id": "rblpUpTgcs0-",
        "outputId": "47db0e45-3d6d-40d6-b5f0-cd67bc3e9c39"
      },
      "execution_count": 26,
      "outputs": [
        {
          "output_type": "execute_result",
          "data": {
            "text/plain": [
              "100"
            ]
          },
          "metadata": {},
          "execution_count": 26
        }
      ]
    },
    {
      "cell_type": "code",
      "source": [
        "l"
      ],
      "metadata": {
        "colab": {
          "base_uri": "https://localhost:8080/"
        },
        "id": "39ZmdxUqcuQx",
        "outputId": "bb58e9d3-c9f7-4c0e-9895-e2c3afe66d13"
      },
      "execution_count": 27,
      "outputs": [
        {
          "output_type": "execute_result",
          "data": {
            "text/plain": [
              "[1, 2, 3, 4, 5, 6, 7]"
            ]
          },
          "metadata": {},
          "execution_count": 27
        }
      ]
    },
    {
      "cell_type": "code",
      "source": [
        "l.pop(2)"
      ],
      "metadata": {
        "colab": {
          "base_uri": "https://localhost:8080/"
        },
        "id": "hW3XNzm8dv89",
        "outputId": "9d870a6b-305d-4272-faad-3f1b6d35886e"
      },
      "execution_count": 28,
      "outputs": [
        {
          "output_type": "execute_result",
          "data": {
            "text/plain": [
              "3"
            ]
          },
          "metadata": {},
          "execution_count": 28
        }
      ]
    },
    {
      "cell_type": "code",
      "source": [
        "l"
      ],
      "metadata": {
        "colab": {
          "base_uri": "https://localhost:8080/"
        },
        "id": "n0w-qUETdyaT",
        "outputId": "c0c0f6b7-1c5d-4935-a2ab-9f1c34a450b3"
      },
      "execution_count": 29,
      "outputs": [
        {
          "output_type": "execute_result",
          "data": {
            "text/plain": [
              "[1, 2, 4, 5, 6, 7]"
            ]
          },
          "metadata": {},
          "execution_count": 29
        }
      ]
    },
    {
      "cell_type": "code",
      "source": [
        "l.insert(1,16) #insert 16 in index 1"
      ],
      "metadata": {
        "id": "bRBPEXszdyw0"
      },
      "execution_count": 31,
      "outputs": []
    },
    {
      "cell_type": "code",
      "source": [
        "l"
      ],
      "metadata": {
        "colab": {
          "base_uri": "https://localhost:8080/"
        },
        "id": "Z-BztZyOzWfK",
        "outputId": "8cba17ac-3a25-46e0-df55-56684c7dad01"
      },
      "execution_count": 32,
      "outputs": [
        {
          "output_type": "execute_result",
          "data": {
            "text/plain": [
              "[1, 16, 2, 4, 5, 6, 7]"
            ]
          },
          "metadata": {},
          "execution_count": 32
        }
      ]
    },
    {
      "cell_type": "code",
      "source": [
        "l=[10,20,10,10,20,30]"
      ],
      "metadata": {
        "id": "1cBLvyjzzWsS"
      },
      "execution_count": 33,
      "outputs": []
    },
    {
      "cell_type": "code",
      "source": [
        "l.remove(10)"
      ],
      "metadata": {
        "id": "K1AXX3zE1c38"
      },
      "execution_count": 34,
      "outputs": []
    },
    {
      "cell_type": "code",
      "source": [
        "l"
      ],
      "metadata": {
        "colab": {
          "base_uri": "https://localhost:8080/"
        },
        "id": "3idcwO5e1eS8",
        "outputId": "f47bbbaa-b41e-4e3d-c650-448e8a9ac376"
      },
      "execution_count": 35,
      "outputs": [
        {
          "output_type": "execute_result",
          "data": {
            "text/plain": [
              "[20, 10, 10, 20, 30]"
            ]
          },
          "metadata": {},
          "execution_count": 35
        }
      ]
    },
    {
      "cell_type": "code",
      "source": [
        "l=[1,2,3,4,5,67,12,1,2,3]"
      ],
      "metadata": {
        "id": "CypjXItn1e_c"
      },
      "execution_count": 41,
      "outputs": []
    },
    {
      "cell_type": "code",
      "source": [
        "print(l.index(12))"
      ],
      "metadata": {
        "colab": {
          "base_uri": "https://localhost:8080/"
        },
        "id": "CBL6Iq93120W",
        "outputId": "9fc125b6-1eb4-42cd-9657-611ecd212e40"
      },
      "execution_count": 37,
      "outputs": [
        {
          "output_type": "stream",
          "name": "stdout",
          "text": [
            "6\n"
          ]
        }
      ]
    },
    {
      "cell_type": "code",
      "source": [
        "print(l.index(50))"
      ],
      "metadata": {
        "colab": {
          "base_uri": "https://localhost:8080/",
          "height": 171
        },
        "id": "AYrnFkLd24-O",
        "outputId": "91467074-b36b-4954-b7a4-3c74ec31fdc5"
      },
      "execution_count": 39,
      "outputs": [
        {
          "output_type": "error",
          "ename": "ValueError",
          "evalue": "ignored",
          "traceback": [
            "\u001b[0;31m---------------------------------------------------------------------------\u001b[0m",
            "\u001b[0;31mValueError\u001b[0m                                Traceback (most recent call last)",
            "\u001b[0;32m<ipython-input-39-660b92019459>\u001b[0m in \u001b[0;36m<module>\u001b[0;34m()\u001b[0m\n\u001b[0;32m----> 1\u001b[0;31m \u001b[0mprint\u001b[0m\u001b[0;34m(\u001b[0m\u001b[0ml\u001b[0m\u001b[0;34m.\u001b[0m\u001b[0mindex\u001b[0m\u001b[0;34m(\u001b[0m\u001b[0;36m50\u001b[0m\u001b[0;34m)\u001b[0m\u001b[0;34m)\u001b[0m\u001b[0;34m\u001b[0m\u001b[0;34m\u001b[0m\u001b[0m\n\u001b[0m",
            "\u001b[0;31mValueError\u001b[0m: 50 is not in list"
          ]
        }
      ]
    },
    {
      "cell_type": "code",
      "source": [
        "c=0\n",
        "for i in l:\n",
        "  if i==12:\n",
        "    print(c)\n",
        "  c+=1"
      ],
      "metadata": {
        "colab": {
          "base_uri": "https://localhost:8080/"
        },
        "id": "LanTCNKK3HsH",
        "outputId": "6fe10a42-59e3-476a-a72e-3015834dd0eb"
      },
      "execution_count": 45,
      "outputs": [
        {
          "output_type": "stream",
          "name": "stdout",
          "text": [
            "6\n"
          ]
        }
      ]
    },
    {
      "cell_type": "code",
      "source": [
        "%time\n",
        "for i in range(len(l)):\n",
        "  if l[i]==12:\n",
        "    print(i)"
      ],
      "metadata": {
        "colab": {
          "base_uri": "https://localhost:8080/"
        },
        "id": "BKeO6LNk5CY-",
        "outputId": "cab3f152-ce16-436d-99b6-f639214c2cab"
      },
      "execution_count": 48,
      "outputs": [
        {
          "output_type": "stream",
          "name": "stdout",
          "text": [
            "CPU times: user 4 µs, sys: 0 ns, total: 4 µs\n",
            "Wall time: 7.39 µs\n",
            "6\n"
          ]
        }
      ]
    },
    {
      "cell_type": "code",
      "source": [
        "%time\n",
        "for i in range(len(l)):\n",
        "  if l[i]==12:\n",
        "    print(i)\n",
        "    break"
      ],
      "metadata": {
        "colab": {
          "base_uri": "https://localhost:8080/"
        },
        "id": "qffg7yi76t7T",
        "outputId": "5be0dc6e-2093-4c73-f2dd-3a6be4246d8c"
      },
      "execution_count": 49,
      "outputs": [
        {
          "output_type": "stream",
          "name": "stdout",
          "text": [
            "CPU times: user 3 µs, sys: 1 µs, total: 4 µs\n",
            "Wall time: 7.63 µs\n",
            "6\n"
          ]
        }
      ]
    },
    {
      "cell_type": "code",
      "source": [
        ""
      ],
      "metadata": {
        "id": "WrPAtAth6zcB"
      },
      "execution_count": null,
      "outputs": []
    }
  ]
}