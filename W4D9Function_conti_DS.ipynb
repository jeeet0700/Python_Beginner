{
  "nbformat": 4,
  "nbformat_minor": 0,
  "metadata": {
    "colab": {
      "name": "W4D9Function_conti_DS.ipynb",
      "provenance": [],
      "authorship_tag": "ABX9TyOhrKHYFiFjzK34BcYhsjtZ",
      "include_colab_link": true
    },
    "kernelspec": {
      "name": "python3",
      "display_name": "Python 3"
    },
    "language_info": {
      "name": "python"
    }
  },
  "cells": [
    {
      "cell_type": "markdown",
      "metadata": {
        "id": "view-in-github",
        "colab_type": "text"
      },
      "source": [
        "<a href=\"https://colab.research.google.com/github/jeeet0700/Python_Beginner/blob/master/W4D9Function_conti_DS.ipynb\" target=\"_parent\"><img src=\"https://colab.research.google.com/assets/colab-badge.svg\" alt=\"Open In Colab\"/></a>"
      ]
    },
    {
      "cell_type": "markdown",
      "source": [
        "Key word argument"
      ],
      "metadata": {
        "id": "bPBNttP1teTD"
      }
    },
    {
      "cell_type": "code",
      "execution_count": 5,
      "metadata": {
        "id": "wwQM2aVJmJ5N"
      },
      "outputs": [],
      "source": [
        "def intro(name,age,profe):\n",
        "  print(\"Hello\",name)\n",
        "  print(\"I am\",age)\n",
        "  print(\"I am\",profe)"
      ]
    },
    {
      "cell_type": "code",
      "source": [
        "intro(\"Jeet\",20,\"SE\")"
      ],
      "metadata": {
        "colab": {
          "base_uri": "https://localhost:8080/"
        },
        "id": "o33BR8Z6qiN4",
        "outputId": "536a503f-ada3-4785-f25a-fc4f2dacab95"
      },
      "execution_count": 6,
      "outputs": [
        {
          "output_type": "stream",
          "name": "stdout",
          "text": [
            "Hello Jeet\n",
            "I am 20\n",
            "I am SE\n"
          ]
        }
      ]
    },
    {
      "cell_type": "code",
      "source": [
        " intro(name=\"Jeeet\",age=20,profe=\"IT\")"
      ],
      "metadata": {
        "colab": {
          "base_uri": "https://localhost:8080/"
        },
        "id": "ez6WW5H8qnbV",
        "outputId": "c77b5c03-26be-4c57-b7c7-3c8a8d8b38fa"
      },
      "execution_count": 7,
      "outputs": [
        {
          "output_type": "stream",
          "name": "stdout",
          "text": [
            "Hello Jeeet\n",
            "I am 20\n",
            "I am IT\n"
          ]
        }
      ]
    },
    {
      "cell_type": "code",
      "source": [
        "intro(age=20,profe=\"IT\",name=\"Jeeet\")"
      ],
      "metadata": {
        "colab": {
          "base_uri": "https://localhost:8080/"
        },
        "id": "7iG3V7UXs2fu",
        "outputId": "8a120506-da75-49f2-b028-f4c0a9d62cb6"
      },
      "execution_count": 8,
      "outputs": [
        {
          "output_type": "stream",
          "name": "stdout",
          "text": [
            "Hello Jeeet\n",
            "I am 20\n",
            "I am IT\n"
          ]
        }
      ]
    },
    {
      "cell_type": "markdown",
      "source": [
        "Default argument"
      ],
      "metadata": {
        "id": "AEk4LnBZtiC5"
      }
    },
    {
      "cell_type": "code",
      "source": [
        "def intro(name,age,profe=\"HCL\"):\n",
        "  print(\"Hello\",name)\n",
        "  print(\"I am\",age)\n",
        "  print(\"I am\",profe)"
      ],
      "metadata": {
        "id": "sQ8i_nA9s9pA"
      },
      "execution_count": 14,
      "outputs": []
    },
    {
      "cell_type": "code",
      "source": [
        "intro(\"Jeet\",20,profe=\"SE\")"
      ],
      "metadata": {
        "colab": {
          "base_uri": "https://localhost:8080/"
        },
        "id": "huqCo9CsuJli",
        "outputId": "587d93b9-f956-42b2-8ee3-46be9bc28eb4"
      },
      "execution_count": 16,
      "outputs": [
        {
          "output_type": "stream",
          "name": "stdout",
          "text": [
            "Hello Jeet\n",
            "I am 20\n",
            "I am SE\n"
          ]
        }
      ]
    },
    {
      "cell_type": "code",
      "source": [
        "intro(\"Jeet\",20)"
      ],
      "metadata": {
        "colab": {
          "base_uri": "https://localhost:8080/"
        },
        "id": "Wv5uP4U_tyVF",
        "outputId": "023f672a-76a4-401d-fc3f-24756c14a5fc"
      },
      "execution_count": 17,
      "outputs": [
        {
          "output_type": "stream",
          "name": "stdout",
          "text": [
            "Hello Jeet\n",
            "I am 20\n",
            "I am HCL\n"
          ]
        }
      ]
    },
    {
      "cell_type": "markdown",
      "source": [
        "Data structure"
      ],
      "metadata": {
        "id": "Rkqx2DATzf5l"
      }
    },
    {
      "cell_type": "markdown",
      "source": [
        "Inbuilt DS\n",
        "List\n",
        "Tuple\n",
        "Set\n",
        "Dict"
      ],
      "metadata": {
        "id": "GLs45oT3zs3V"
      }
    },
    {
      "cell_type": "code",
      "source": [
        "name1=\"HCL\"\n",
        "name2=\"Tech Mahi\"\n",
        "name3=\"Wipro\"\n",
        "name4=\"Info\"\n",
        "name='JP M'"
      ],
      "metadata": {
        "id": "ui2UkK7GzbQB"
      },
      "execution_count": 18,
      "outputs": []
    },
    {
      "cell_type": "code",
      "source": [
        "tech= []"
      ],
      "metadata": {
        "id": "u60e1ngV1QiR"
      },
      "execution_count": 19,
      "outputs": []
    },
    {
      "cell_type": "code",
      "source": [
        "type(tech)"
      ],
      "metadata": {
        "colab": {
          "base_uri": "https://localhost:8080/"
        },
        "id": "wlLUtfmq1Vfk",
        "outputId": "4dde5b91-aa52-4af8-ffbd-009e5435eda3"
      },
      "execution_count": 20,
      "outputs": [
        {
          "output_type": "execute_result",
          "data": {
            "text/plain": [
              "list"
            ]
          },
          "metadata": {},
          "execution_count": 20
        }
      ]
    },
    {
      "cell_type": "code",
      "source": [
        "tech=[\"HCL\",\"Tech mahi\",\"Wipro\",\"Info\",\"JP M\"]\n",
        "print(tech)"
      ],
      "metadata": {
        "colab": {
          "base_uri": "https://localhost:8080/"
        },
        "id": "fw6H0Dok1XDf",
        "outputId": "6f2894ef-11ca-4923-dee5-2fe1b1ff7ca8"
      },
      "execution_count": 21,
      "outputs": [
        {
          "output_type": "stream",
          "name": "stdout",
          "text": [
            "['HCL', 'Tech mahi', 'Wipro', 'Info', 'JP M']\n"
          ]
        }
      ]
    },
    {
      "cell_type": "code",
      "source": [
        "print(tech[0])"
      ],
      "metadata": {
        "colab": {
          "base_uri": "https://localhost:8080/"
        },
        "id": "ckTRrUpo1pxs",
        "outputId": "9946825b-e87b-4cff-edd1-676b76578947"
      },
      "execution_count": 22,
      "outputs": [
        {
          "output_type": "stream",
          "name": "stdout",
          "text": [
            "HCL\n"
          ]
        }
      ]
    },
    {
      "cell_type": "code",
      "source": [
        "print(tech[3])"
      ],
      "metadata": {
        "colab": {
          "base_uri": "https://localhost:8080/"
        },
        "id": "nFN2rHma61xO",
        "outputId": "1d55d7ed-0336-4f04-d6da-786e190b945b"
      },
      "execution_count": 23,
      "outputs": [
        {
          "output_type": "stream",
          "name": "stdout",
          "text": [
            "Info\n"
          ]
        }
      ]
    },
    {
      "cell_type": "code",
      "source": [
        ""
      ],
      "metadata": {
        "id": "Hc2KlK3O66ag"
      },
      "execution_count": null,
      "outputs": []
    }
  ]
}