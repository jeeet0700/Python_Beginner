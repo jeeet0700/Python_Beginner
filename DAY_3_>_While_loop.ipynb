{
  "nbformat": 4,
  "nbformat_minor": 0,
  "metadata": {
    "colab": {
      "name": "DAY 3 > While loop.ipynb",
      "provenance": [],
      "authorship_tag": "ABX9TyNO6PYyjMq0weTww3QI8Drm",
      "include_colab_link": true
    },
    "kernelspec": {
      "name": "python3",
      "display_name": "Python 3"
    },
    "language_info": {
      "name": "python"
    }
  },
  "cells": [
    {
      "cell_type": "markdown",
      "metadata": {
        "id": "view-in-github",
        "colab_type": "text"
      },
      "source": [
        "<a href=\"https://colab.research.google.com/github/jeeet0700/Python_Beginner/blob/master/DAY_3_%3E_While_loop.ipynb\" target=\"_parent\"><img src=\"https://colab.research.google.com/assets/colab-badge.svg\" alt=\"Open In Colab\"/></a>"
      ]
    },
    {
      "cell_type": "code",
      "execution_count": null,
      "metadata": {
        "colab": {
          "base_uri": "https://localhost:8080/"
        },
        "id": "jxHZxSR_FmQN",
        "outputId": "9bf132db-d048-4b0c-e7c8-f777bcc73100"
      },
      "outputs": [
        {
          "output_type": "stream",
          "name": "stdout",
          "text": [
            "1 2 3 4 5 6 7 8 9 10 "
          ]
        }
      ],
      "source": [
        "counter=1\n",
        "while counter<=10:\n",
        "  print(counter,end=\" \")\n",
        "  counter=counter + 1"
      ]
    },
    {
      "cell_type": "code",
      "source": [
        "counter=0\n",
        "while counter<10:\n",
        "  counter=counter+1\n",
        "  print(counter,end=\" \")"
      ],
      "metadata": {
        "colab": {
          "base_uri": "https://localhost:8080/"
        },
        "id": "i-Fan5nRGB2M",
        "outputId": "123f6f48-26e4-4b92-d21a-31565ea6a04f"
      },
      "execution_count": null,
      "outputs": [
        {
          "output_type": "stream",
          "name": "stdout",
          "text": [
            "1 2 3 4 5 6 7 8 9 10 "
          ]
        }
      ]
    },
    {
      "cell_type": "code",
      "source": [
        "n=int(input())\n",
        "i=1\n",
        "while i<=n:\n",
        "  print(i,end=\" \")\n",
        "  i=i+1"
      ],
      "metadata": {
        "colab": {
          "base_uri": "https://localhost:8080/"
        },
        "id": "3NS7bodFGYpW",
        "outputId": "17411958-6f2b-475f-f558-6d10f63d0072"
      },
      "execution_count": null,
      "outputs": [
        {
          "output_type": "stream",
          "name": "stdout",
          "text": [
            "10\n",
            "1 2 3 4 5 6 7 8 9 10 "
          ]
        }
      ]
    },
    {
      "cell_type": "code",
      "source": [
        "n=int(input())\n",
        "i=0\n",
        "while i<n:\n",
        "  i=i+1\n",
        "  print(i,end=\" \")"
      ],
      "metadata": {
        "colab": {
          "base_uri": "https://localhost:8080/"
        },
        "id": "YMlosBB4IB6y",
        "outputId": "e0fffe56-f66e-4885-8cf9-b3f0d0dd166f"
      },
      "execution_count": null,
      "outputs": [
        {
          "output_type": "stream",
          "name": "stdout",
          "text": [
            "10\n",
            "1 2 3 4 5 6 7 8 9 10 "
          ]
        }
      ]
    },
    {
      "cell_type": "code",
      "source": [
        "n=int(input())\n",
        "i=1\n",
        "while i<=n:\n",
        "  print(i,end=\" \")\n",
        "  i=i+2"
      ],
      "metadata": {
        "colab": {
          "base_uri": "https://localhost:8080/"
        },
        "id": "AUvB0TGRINaV",
        "outputId": "1fa14c36-f32b-4092-9656-039b0777f4ba"
      },
      "execution_count": null,
      "outputs": [
        {
          "output_type": "stream",
          "name": "stdout",
          "text": [
            "12\n",
            "1 3 5 7 9 11 "
          ]
        }
      ]
    },
    {
      "cell_type": "code",
      "source": [
        "n=int(input())\n",
        "i=4\n",
        "while i<=n:\n",
        "  print(i,end=\" \")\n",
        "  i=i+4"
      ],
      "metadata": {
        "colab": {
          "base_uri": "https://localhost:8080/"
        },
        "id": "wJQifgewIm0W",
        "outputId": "3f8422d7-3c89-4eeb-b1fb-89c2337f4c7d"
      },
      "execution_count": null,
      "outputs": [
        {
          "output_type": "stream",
          "name": "stdout",
          "text": [
            "10\n",
            "4 8 "
          ]
        }
      ]
    },
    {
      "cell_type": "code",
      "source": [
        "n=int(input())\n",
        "i=1\n",
        "while i<=n:\n",
        "  print(2**i,end=\" \")\n",
        "  i=i+1"
      ],
      "metadata": {
        "colab": {
          "base_uri": "https://localhost:8080/"
        },
        "id": "oPEmFJsbJaNT",
        "outputId": "55d17194-52e3-44c6-efcd-22ebd7d7c904"
      },
      "execution_count": null,
      "outputs": [
        {
          "output_type": "stream",
          "name": "stdout",
          "text": [
            "5\n",
            "2 4 8 16 32 "
          ]
        }
      ]
    },
    {
      "cell_type": "code",
      "source": [
        "n=int(input())\n",
        "i=1\n",
        "while i<=n:\n",
        "  print(i**2,end=\" \")\n",
        "  i=i+1"
      ],
      "metadata": {
        "colab": {
          "base_uri": "https://localhost:8080/"
        },
        "id": "yeClRN-tK8WW",
        "outputId": "b87da46f-31f0-4a9b-9a46-f07c4b334966"
      },
      "execution_count": null,
      "outputs": [
        {
          "output_type": "stream",
          "name": "stdout",
          "text": [
            "5\n",
            "1 4 9 16 25 "
          ]
        }
      ]
    },
    {
      "cell_type": "code",
      "source": [
        "n=int(input())\n",
        "while n>=1:\n",
        "  print(n,end=\" \")\n",
        "  n=n-1"
      ],
      "metadata": {
        "colab": {
          "base_uri": "https://localhost:8080/"
        },
        "id": "D75bhQSHLty1",
        "outputId": "fbcd8701-af54-460c-f3ab-f9b0a29d456d"
      },
      "execution_count": null,
      "outputs": [
        {
          "output_type": "stream",
          "name": "stdout",
          "text": [
            "10\n",
            "10 9 8 7 6 5 4 3 2 1 "
          ]
        }
      ]
    },
    {
      "cell_type": "code",
      "source": [
        "n=int(input())\n",
        "if n%2==0:\n",
        "  n=n\n",
        "else:\n",
        "  n=n-1\n",
        "while n>=2:\n",
        "  print(n,end=\" \")\n",
        "  n=n-2"
      ],
      "metadata": {
        "colab": {
          "base_uri": "https://localhost:8080/"
        },
        "id": "2atLb1XGOfGq",
        "outputId": "4f5dedfc-e71d-4fa1-f096-ba192ebe43c8"
      },
      "execution_count": null,
      "outputs": [
        {
          "output_type": "stream",
          "name": "stdout",
          "text": [
            "11\n",
            "10 8 6 4 2 "
          ]
        }
      ]
    },
    {
      "cell_type": "code",
      "source": [
        "n=int(input())\n",
        "i=0\n",
        "while i<=n:\n",
        "  print(i)\n",
        "  i=i+1"
      ],
      "metadata": {
        "colab": {
          "base_uri": "https://localhost:8080/"
        },
        "id": "8avgPI-PO_le",
        "outputId": "b996bd54-827b-45e1-9bc9-f85138d9f7da"
      },
      "execution_count": null,
      "outputs": [
        {
          "output_type": "stream",
          "name": "stdout",
          "text": [
            "5\n",
            "0\n",
            "1\n",
            "2\n",
            "3\n",
            "4\n",
            "5\n"
          ]
        }
      ]
    },
    {
      "cell_type": "code",
      "source": [
        "0,1,1,2,3,5,8"
      ],
      "metadata": {
        "colab": {
          "base_uri": "https://localhost:8080/"
        },
        "id": "63GgtirWNFyp",
        "outputId": "1ec15cd9-6438-438a-8610-4fd476feeea1"
      },
      "execution_count": null,
      "outputs": [
        {
          "output_type": "stream",
          "name": "stdout",
          "text": [
            "5\n",
            "0\n",
            "1\n",
            "3\n",
            "6\n",
            "10\n"
          ]
        }
      ]
    },
    {
      "cell_type": "code",
      "source": [
        "i=0\n",
        "temp=0\n",
        "sum=0\n",
        "while i<=5:\n",
        "  temp=i\n",
        "  sum=sum+temp\n",
        "  print(sum)\n",
        "  i=i+1"
      ],
      "metadata": {
        "colab": {
          "base_uri": "https://localhost:8080/"
        },
        "id": "6MknxqH3O0CA",
        "outputId": "557cf29f-b836-4004-af62-f37b395dd869"
      },
      "execution_count": null,
      "outputs": [
        {
          "output_type": "stream",
          "name": "stdout",
          "text": [
            "0\n",
            "1\n",
            "3\n",
            "6\n",
            "10\n",
            "15\n"
          ]
        }
      ]
    }
  ]
}