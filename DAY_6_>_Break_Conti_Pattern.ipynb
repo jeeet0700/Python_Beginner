{
  "nbformat": 4,
  "nbformat_minor": 0,
  "metadata": {
    "colab": {
      "name": "DAY_6_>_Break_Conti_Pattern.ipynb",
      "provenance": [],
      "authorship_tag": "ABX9TyO0nzWPiPmVdh26VMW8m4CJ",
      "include_colab_link": true
    },
    "kernelspec": {
      "name": "python3",
      "display_name": "Python 3"
    },
    "language_info": {
      "name": "python"
    }
  },
  "cells": [
    {
      "cell_type": "markdown",
      "metadata": {
        "id": "view-in-github",
        "colab_type": "text"
      },
      "source": [
        "<a href=\"https://colab.research.google.com/github/jeeet0700/Python_Beginner/blob/master/DAY_6_%3E_Break_Conti_Pattern.ipynb\" target=\"_parent\"><img src=\"https://colab.research.google.com/assets/colab-badge.svg\" alt=\"Open In Colab\"/></a>"
      ]
    },
    {
      "cell_type": "code",
      "source": [
        "n=5"
      ],
      "metadata": {
        "id": "NQ9d76MikIcx"
      },
      "execution_count": 3,
      "outputs": []
    },
    {
      "cell_type": "code",
      "execution_count": 2,
      "metadata": {
        "colab": {
          "base_uri": "https://localhost:8080/"
        },
        "id": "-5oDG2n5jYVE",
        "outputId": "b7d4a100-8515-43de-e9ab-4c6bacd986aa"
      },
      "outputs": [
        {
          "output_type": "stream",
          "name": "stdout",
          "text": [
            "* * * * * "
          ]
        }
      ],
      "source": [
        "for i in range(5):\n",
        "  print(\"*\",end=\" \")"
      ]
    },
    {
      "cell_type": "code",
      "source": [
        "for i in range(1,n+1):\n",
        "  for j in range(1,n+1):\n",
        "    print(\"*\",end=\" \")\n",
        "  print()"
      ],
      "metadata": {
        "colab": {
          "base_uri": "https://localhost:8080/"
        },
        "id": "r9ZE1jzWkANY",
        "outputId": "0ff2f483-6f9a-4d17-c93a-3ea11431d45c"
      },
      "execution_count": 4,
      "outputs": [
        {
          "output_type": "stream",
          "name": "stdout",
          "text": [
            "* * * * * \n",
            "* * * * * \n",
            "* * * * * \n",
            "* * * * * \n",
            "* * * * * \n"
          ]
        }
      ]
    },
    {
      "cell_type": "code",
      "source": [
        ""
      ],
      "metadata": {
        "id": "eWWiVyDFkVuk"
      },
      "execution_count": null,
      "outputs": []
    }
  ]
}