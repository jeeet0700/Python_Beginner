{
  "nbformat": 4,
  "nbformat_minor": 0,
  "metadata": {
    "colab": {
      "name": "Advance Concepts shallow/deep copy, lambda, map, filter, reduce.ipynb",
      "provenance": [],
      "authorship_tag": "ABX9TyPHvq/b+/w6mubXrvk/Ogci",
      "include_colab_link": true
    },
    "kernelspec": {
      "name": "python3",
      "display_name": "Python 3"
    },
    "language_info": {
      "name": "python"
    }
  },
  "cells": [
    {
      "cell_type": "markdown",
      "metadata": {
        "id": "view-in-github",
        "colab_type": "text"
      },
      "source": [
        "<a href=\"https://colab.research.google.com/github/jeeet0700/Python_Beginner/blob/master/Advance_Concepts_shallow_deep_copy%2C_lambda%2C_map%2C_filter%2C_reduce.ipynb\" target=\"_parent\"><img src=\"https://colab.research.google.com/assets/colab-badge.svg\" alt=\"Open In Colab\"/></a>"
      ]
    },
    {
      "cell_type": "code",
      "source": [
        "a=[[1,2,3],[4,5,6]]\n",
        "b=a\n",
        "print(id(a),id(b))"
      ],
      "metadata": {
        "colab": {
          "base_uri": "https://localhost:8080/"
        },
        "id": "o4A8AdQxKaXW",
        "outputId": "00feaa98-aacb-4e19-d17d-3c5e02ecf8d6"
      },
      "execution_count": 1,
      "outputs": [
        {
          "output_type": "stream",
          "name": "stdout",
          "text": [
            "139863450922752 139863450922752\n"
          ]
        }
      ]
    },
    {
      "cell_type": "code",
      "execution_count": 2,
      "metadata": {
        "colab": {
          "base_uri": "https://localhost:8080/"
        },
        "id": "nsJjU-Y4qoVY",
        "outputId": "7d1c423f-fe07-4187-e615-8398a4e1ff75"
      },
      "outputs": [
        {
          "output_type": "stream",
          "name": "stdout",
          "text": [
            "[[1, 2, 3], [4, 'Hello', 6]]\n",
            "[[1, 2, 3], [4, 'Hello', 6]]\n"
          ]
        }
      ],
      "source": [
        "a[1][1]=\"Hello\"\n",
        "print(a)\n",
        "print(b)"
      ]
    },
    {
      "cell_type": "markdown",
      "source": [
        "##Shallow Copy"
      ],
      "metadata": {
        "id": "niZ_tdJ0QcXO"
      }
    },
    {
      "cell_type": "code",
      "source": [
        "from copy import copy\n",
        "a=[[1,2,3],[4,5,6]]\n",
        "b=copy(a)\n",
        "print(id(a),id(b))\n",
        "print(a)\n",
        "print(b)\n",
        "print(id(a[0]),id(b[0]))"
      ],
      "metadata": {
        "colab": {
          "base_uri": "https://localhost:8080/"
        },
        "id": "b02lbz6DKn7C",
        "outputId": "53910b3a-4665-405f-cf2d-fbc85a80e6b1"
      },
      "execution_count": 4,
      "outputs": [
        {
          "output_type": "stream",
          "name": "stdout",
          "text": [
            "139863449288368 139863449313104\n",
            "[[1, 2, 3], [4, 5, 6]]\n",
            "[[1, 2, 3], [4, 5, 6]]\n",
            "139863449865984 139863449865984\n"
          ]
        }
      ]
    },
    {
      "cell_type": "code",
      "source": [
        ""
      ],
      "metadata": {
        "id": "tTqycwKfR3Gz"
      },
      "execution_count": null,
      "outputs": []
    }
  ]
}