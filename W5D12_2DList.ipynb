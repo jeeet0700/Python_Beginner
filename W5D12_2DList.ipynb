{
  "nbformat": 4,
  "nbformat_minor": 0,
  "metadata": {
    "colab": {
      "name": "W5D12_2DList.ipynb",
      "provenance": [],
      "authorship_tag": "ABX9TyMAW8xUVrCMQCJru6mojwnR",
      "include_colab_link": true
    },
    "kernelspec": {
      "name": "python3",
      "display_name": "Python 3"
    },
    "language_info": {
      "name": "python"
    }
  },
  "cells": [
    {
      "cell_type": "markdown",
      "metadata": {
        "id": "view-in-github",
        "colab_type": "text"
      },
      "source": [
        "<a href=\"https://colab.research.google.com/github/jeeet0700/Python_Beginner/blob/master/W5D12_2DList.ipynb\" target=\"_parent\"><img src=\"https://colab.research.google.com/assets/colab-badge.svg\" alt=\"Open In Colab\"/></a>"
      ]
    },
    {
      "cell_type": "code",
      "execution_count": null,
      "metadata": {
        "id": "feo6ZzxXupWp"
      },
      "outputs": [],
      "source": [
        "a=[\n",
        "   [2,3],\n",
        "   [4,5],\n",
        "   [6,7]\n",
        "]"
      ]
    },
    {
      "cell_type": "code",
      "source": [
        "for i in range(len(a)):\n",
        "  for j in range(len(a[i])):\n",
        "    print(a[i][j],end=\" \")\n",
        "  print()"
      ],
      "metadata": {
        "colab": {
          "base_uri": "https://localhost:8080/"
        },
        "id": "85Sy5QKUwh-B",
        "outputId": "48274951-26fb-4c6c-f5a3-56372062afda"
      },
      "execution_count": null,
      "outputs": [
        {
          "output_type": "stream",
          "name": "stdout",
          "text": [
            "2 3 \n",
            "4 5 \n",
            "6 7 \n"
          ]
        }
      ]
    },
    {
      "cell_type": "code",
      "source": [
        "for i in range(len(a)):\n",
        "  for j in range(len(a[i])):\n",
        "    print(a[i][j]**2,end=\" \")\n",
        "  print()"
      ],
      "metadata": {
        "colab": {
          "base_uri": "https://localhost:8080/"
        },
        "id": "Vw4snWM4wu4Z",
        "outputId": "30c9723a-60ce-45f2-a4f0-d19ecc5b6dfc"
      },
      "execution_count": null,
      "outputs": [
        {
          "output_type": "stream",
          "name": "stdout",
          "text": [
            "4 9 \n",
            "16 25 \n",
            "36 49 \n"
          ]
        }
      ]
    },
    {
      "cell_type": "markdown",
      "source": [
        "Reading 2D list i/p"
      ],
      "metadata": {
        "id": "pJqcXX7_xnrE"
      }
    },
    {
      "cell_type": "code",
      "source": [
        "r,c=map(int,input().split())\n",
        "print(r,c)"
      ],
      "metadata": {
        "colab": {
          "base_uri": "https://localhost:8080/"
        },
        "id": "NBfVOCfx0BeE",
        "outputId": "cc3b99fe-8ead-4de4-ff02-a7f1f9b648ab"
      },
      "execution_count": null,
      "outputs": [
        {
          "output_type": "stream",
          "name": "stdout",
          "text": [
            "1 2\n",
            "1 2\n"
          ]
        }
      ]
    },
    {
      "cell_type": "code",
      "source": [
        "a,b,c,d=map(int,input().split())"
      ],
      "metadata": {
        "colab": {
          "base_uri": "https://localhost:8080/"
        },
        "id": "ItThpz6o0Hfw",
        "outputId": "ce936d1f-3f82-4dce-a2a2-8d89ef40f3a3"
      },
      "execution_count": null,
      "outputs": [
        {
          "name": "stdout",
          "output_type": "stream",
          "text": [
            "1 2 3 4\n"
          ]
        }
      ]
    },
    {
      "cell_type": "code",
      "source": [
        "r,c=map(int,input().split())\n",
        "a=[]\n",
        "for i in range(r):\n",
        "  row=list(map(int,input().split()))\n",
        "  a.append(row)\n",
        "print(a)"
      ],
      "metadata": {
        "colab": {
          "base_uri": "https://localhost:8080/"
        },
        "id": "lAj_L2RkxewB",
        "outputId": "b1630c14-0088-46cc-9eb2-454066408eea"
      },
      "execution_count": null,
      "outputs": [
        {
          "output_type": "stream",
          "name": "stdout",
          "text": [
            "2 3\n",
            "5 1 2\n",
            "11 22 33\n",
            "[[5, 1, 2], [11, 22, 33]]\n"
          ]
        }
      ]
    },
    {
      "cell_type": "code",
      "source": [
        "a=[\n",
        "   [2,3],\n",
        "   [4,5]\n",
        "]\n",
        "\n",
        "b=[\n",
        "   [11,22],\n",
        "   [33,44]\n",
        "]\n",
        "\n",
        "r=2\n",
        "c=2\n",
        "\n",
        "rec=[]\n",
        "\n",
        "for i in range(r):\n",
        "  row=[]\n",
        "  for j in range(c):\n",
        "    row.append(a[i][j] + b[i][j])\n",
        "  rec.append(row)\n",
        "print(rec)"
      ],
      "metadata": {
        "colab": {
          "base_uri": "https://localhost:8080/"
        },
        "id": "oN7SlKDIzgCq",
        "outputId": "c2b1ab74-31ff-4f6b-8bbb-e9af29bc7bd4"
      },
      "execution_count": null,
      "outputs": [
        {
          "output_type": "stream",
          "name": "stdout",
          "text": [
            "[[13, 25], [37, 49]]\n"
          ]
        }
      ]
    },
    {
      "cell_type": "code",
      "source": [
        "a=[\n",
        "   [1,2],\n",
        "   [3,4],\n",
        "   [5,6]\n",
        "]"
      ],
      "metadata": {
        "id": "mNLCt5Hh6l9j"
      },
      "execution_count": null,
      "outputs": []
    },
    {
      "cell_type": "code",
      "source": [
        "for i in a:\n",
        "  print(i)"
      ],
      "metadata": {
        "colab": {
          "base_uri": "https://localhost:8080/"
        },
        "id": "mbaMRykvN3Dm",
        "outputId": "cf94547f-da21-4194-a2be-df2144a31535"
      },
      "execution_count": null,
      "outputs": [
        {
          "output_type": "stream",
          "name": "stdout",
          "text": [
            "[1, 2]\n",
            "[3, 4]\n",
            "[5, 6]\n"
          ]
        }
      ]
    },
    {
      "cell_type": "code",
      "source": [
        "for i in range(len(a)):\n",
        "  print(a[i])"
      ],
      "metadata": {
        "colab": {
          "base_uri": "https://localhost:8080/"
        },
        "id": "QYH1SPCeN6S5",
        "outputId": "74ce0cd5-af18-491c-8b8e-9f3f102c6d2a"
      },
      "execution_count": null,
      "outputs": [
        {
          "output_type": "stream",
          "name": "stdout",
          "text": [
            "[1, 2]\n",
            "[3, 4]\n",
            "[5, 6]\n"
          ]
        }
      ]
    },
    {
      "cell_type": "code",
      "source": [
        "for i in range(len(a)):\n",
        "  print(a[i],type(a[i]),len(a[i]))"
      ],
      "metadata": {
        "colab": {
          "base_uri": "https://localhost:8080/"
        },
        "id": "EXAb5uP7N_Qw",
        "outputId": "22afe275-c0f3-41e3-f8cd-64c48e6f5ad6"
      },
      "execution_count": null,
      "outputs": [
        {
          "output_type": "stream",
          "name": "stdout",
          "text": [
            "[1, 2] <class 'list'> 2\n",
            "[3, 4] <class 'list'> 2\n",
            "[5, 6] <class 'list'> 2\n"
          ]
        }
      ]
    },
    {
      "cell_type": "code",
      "source": [
        "for i in range(len(a)):\n",
        "  for j in range(len(a[i])):\n",
        "    print(a[i][j])\n",
        "  print()"
      ],
      "metadata": {
        "colab": {
          "base_uri": "https://localhost:8080/"
        },
        "id": "GSKi9SloOlLa",
        "outputId": "1fa071e9-80a3-4ce9-fd87-47f3e585130f"
      },
      "execution_count": null,
      "outputs": [
        {
          "output_type": "stream",
          "name": "stdout",
          "text": [
            "1\n",
            "2\n",
            "\n",
            "3\n",
            "4\n",
            "\n",
            "5\n",
            "6\n",
            "\n"
          ]
        }
      ]
    },
    {
      "cell_type": "code",
      "source": [
        "a=[\n",
        "   [1,2,3],\n",
        "   [4,5,6],\n",
        "   [7,8,9]\n",
        "]"
      ],
      "metadata": {
        "id": "Gghlj3XiO2LJ"
      },
      "execution_count": null,
      "outputs": []
    },
    {
      "cell_type": "code",
      "source": [
        "for i in range(len(a)):\n",
        "  print(a[i])"
      ],
      "metadata": {
        "colab": {
          "base_uri": "https://localhost:8080/"
        },
        "id": "STg_s-7X2JE0",
        "outputId": "e97e3c4e-01db-4bb9-ed85-c03be5a87eac"
      },
      "execution_count": null,
      "outputs": [
        {
          "output_type": "stream",
          "name": "stdout",
          "text": [
            "[1, 2, 3]\n",
            "[4, 5, 6]\n",
            "[7, 8, 9]\n"
          ]
        }
      ]
    },
    {
      "cell_type": "code",
      "source": [
        "for i in range(len(a)):\n",
        "  for j in range(len(a[i])):\n",
        "    print(a[i][j],end=\"\")\n",
        "  print()"
      ],
      "metadata": {
        "colab": {
          "base_uri": "https://localhost:8080/"
        },
        "id": "oOnuoaZO2QMD",
        "outputId": "60e758fe-7655-4aa1-eb44-545f2e93347e"
      },
      "execution_count": null,
      "outputs": [
        {
          "output_type": "stream",
          "name": "stdout",
          "text": [
            "123\n",
            "456\n",
            "789\n"
          ]
        }
      ]
    },
    {
      "cell_type": "code",
      "source": [
        "for i in range(len(a)):\n",
        "  for j in range(len(a[i])):\n",
        "    print(a[i][j]**2,end=\" \")\n",
        "  print()"
      ],
      "metadata": {
        "colab": {
          "base_uri": "https://localhost:8080/"
        },
        "id": "2qx_k40q2n_S",
        "outputId": "4e0bc8bb-cd14-4329-82fc-a7645d7b5e13"
      },
      "execution_count": null,
      "outputs": [
        {
          "output_type": "stream",
          "name": "stdout",
          "text": [
            "1 4 9 \n",
            "16 25 36 \n",
            "49 64 81 \n"
          ]
        }
      ]
    },
    {
      "cell_type": "code",
      "source": [
        "r,c = map(int,input().split())\n",
        "a=[]\n",
        "for i in range(r):\n",
        "  r=list(map(int,input().split()))\n",
        "  a.append(r)"
      ],
      "metadata": {
        "colab": {
          "base_uri": "https://localhost:8080/"
        },
        "id": "dc-kxWID3kPq",
        "outputId": "f9e717db-5c3e-4506-c4ae-00b59138a850"
      },
      "execution_count": null,
      "outputs": [
        {
          "name": "stdout",
          "output_type": "stream",
          "text": [
            "2 3\n",
            "1 2 3\n",
            "4 5 6\n"
          ]
        }
      ]
    },
    {
      "cell_type": "code",
      "source": [
        "a"
      ],
      "metadata": {
        "colab": {
          "base_uri": "https://localhost:8080/"
        },
        "id": "4d092E2G5X5r",
        "outputId": "d6af967e-1288-496b-d058-4edc56fa0ecf"
      },
      "execution_count": null,
      "outputs": [
        {
          "output_type": "execute_result",
          "data": {
            "text/plain": [
              "[[1, 2, 3], [4, 5, 6]]"
            ]
          },
          "metadata": {},
          "execution_count": 11
        }
      ]
    },
    {
      "cell_type": "code",
      "source": [
        "r=2\n",
        "c=3\n",
        "for j in range(c):\n",
        "  for i in range(r):\n",
        "    print(a[i][j],end=\" \")\n",
        "  print()"
      ],
      "metadata": {
        "colab": {
          "base_uri": "https://localhost:8080/"
        },
        "id": "5v__UNbk5eFB",
        "outputId": "89c54151-9659-40b6-d78a-354bfadfd2a2"
      },
      "execution_count": null,
      "outputs": [
        {
          "output_type": "stream",
          "name": "stdout",
          "text": [
            "1 4 \n",
            "2 5 \n",
            "3 6 \n"
          ]
        }
      ]
    },
    {
      "cell_type": "code",
      "source": [
        "a=[\n",
        "   [2,3],\n",
        "   [4,5]\n",
        "]\n",
        "\n",
        "b=[\n",
        "   [0,-9],\n",
        "   [2,8]\n",
        "]\n",
        "\n",
        "r=2\n",
        "c=2\n",
        "\n",
        "rec=[]\n",
        "\n",
        "for i in range(r):\n",
        "  for j in range(c):\n",
        "    print(a[i][j]+b[i][j],end=\" \")\n",
        "  print()"
      ],
      "metadata": {
        "colab": {
          "base_uri": "https://localhost:8080/"
        },
        "id": "xelS-oeiB0Sg",
        "outputId": "efdb16ad-eceb-47fc-d25f-c284936e4e77"
      },
      "execution_count": null,
      "outputs": [
        {
          "output_type": "stream",
          "name": "stdout",
          "text": [
            "2 -6 \n",
            "6 13 \n"
          ]
        }
      ]
    },
    {
      "cell_type": "code",
      "source": [
        "for i in range(r):\n",
        "  row=[]\n",
        "  for j in range(c):\n",
        "    row.append(a[i][j]+b[i][j])\n",
        "  rec.append(row)\n",
        "print(rec)"
      ],
      "metadata": {
        "colab": {
          "base_uri": "https://localhost:8080/"
        },
        "id": "qSkPV_G6C8Uo",
        "outputId": "edecdbe0-4c1a-4075-c956-096c9288794a"
      },
      "execution_count": null,
      "outputs": [
        {
          "output_type": "stream",
          "name": "stdout",
          "text": [
            "[[2, -6], [6, 13]]\n"
          ]
        }
      ]
    },
    {
      "cell_type": "code",
      "source": [
        "a=[\n",
        "  [5,9,2],\n",
        "  [-3,0,8]\n",
        "]\n",
        "\n",
        "for i in range(len(a)):\n",
        "  print(a[i])"
      ],
      "metadata": {
        "colab": {
          "base_uri": "https://localhost:8080/"
        },
        "id": "H3YkSxf-FBrk",
        "outputId": "16078a81-4404-4d33-e764-b79f7c712188"
      },
      "execution_count": null,
      "outputs": [
        {
          "output_type": "stream",
          "name": "stdout",
          "text": [
            "[5, 9, 2]\n",
            "[-3, 0, 8]\n"
          ]
        }
      ]
    },
    {
      "cell_type": "code",
      "source": [
        "for i in range(len(a)):\n",
        "  print(a[i])\n",
        "  s=0\n",
        "  for j in a[i]:\n",
        "    s+=j\n",
        "  print(s)"
      ],
      "metadata": {
        "colab": {
          "base_uri": "https://localhost:8080/"
        },
        "id": "Fq-NpLY_Hfml",
        "outputId": "7dcb185f-4a2b-4c5c-98ca-9c122d0470f3"
      },
      "execution_count": null,
      "outputs": [
        {
          "output_type": "stream",
          "name": "stdout",
          "text": [
            "[5, 9, 2]\n",
            "16\n",
            "[-3, 0, 8]\n",
            "5\n"
          ]
        }
      ]
    },
    {
      "cell_type": "code",
      "source": [
        "a=[\n",
        "   [1,0,0],\n",
        "   [0,1,0],\n",
        "   [1,0,1]\n",
        "]\n",
        "ans=\"Yes\"\n",
        "for i in range(len(a)):\n",
        "  for j in range(len(a[i])):\n",
        "    if i==j and a[i][j]==1:\n",
        "      continue\n",
        "    elif i!=j and a[i][j]==0:\n",
        "      continue\n",
        "    else:\n",
        "      ans = 'Not'\n",
        "      break\n",
        "print(ans)"
      ],
      "metadata": {
        "colab": {
          "base_uri": "https://localhost:8080/"
        },
        "id": "fBkLSwTtILnX",
        "outputId": "251d0c27-94af-4422-927d-43ec744af3d0"
      },
      "execution_count": null,
      "outputs": [
        {
          "output_type": "stream",
          "name": "stdout",
          "text": [
            "Not\n"
          ]
        }
      ]
    },
    {
      "cell_type": "code",
      "source": [
        "a"
      ],
      "metadata": {
        "colab": {
          "base_uri": "https://localhost:8080/"
        },
        "id": "CAsc6rF0Tghg",
        "outputId": "ada0db56-bf3e-4297-91b4-cb5bfeaca4ad"
      },
      "execution_count": null,
      "outputs": [
        {
          "output_type": "execute_result",
          "data": {
            "text/plain": [
              "[[5, 9, 2], [-3, 0, 8]]"
            ]
          },
          "metadata": {},
          "execution_count": 28
        }
      ]
    },
    {
      "cell_type": "code",
      "source": [
        "len(a)"
      ],
      "metadata": {
        "colab": {
          "base_uri": "https://localhost:8080/"
        },
        "id": "izd3W38YTfvt",
        "outputId": "4ec5dbb4-f82c-433b-eca7-8d999c317541"
      },
      "execution_count": null,
      "outputs": [
        {
          "output_type": "execute_result",
          "data": {
            "text/plain": [
              "2"
            ]
          },
          "metadata": {},
          "execution_count": 29
        }
      ]
    },
    {
      "cell_type": "code",
      "source": [
        "len(a[0])"
      ],
      "metadata": {
        "colab": {
          "base_uri": "https://localhost:8080/"
        },
        "id": "iiHwELcKTjII",
        "outputId": "e04ebe37-38e1-4b8d-ba6f-a369dc2f0116"
      },
      "execution_count": null,
      "outputs": [
        {
          "output_type": "execute_result",
          "data": {
            "text/plain": [
              "3"
            ]
          },
          "metadata": {},
          "execution_count": 30
        }
      ]
    },
    {
      "cell_type": "code",
      "source": [
        "print(__name__)"
      ],
      "metadata": {
        "id": "pGYvXf72UDH1",
        "outputId": "4fe9cb49-9a03-41ff-a09d-cabf53cfda5e",
        "colab": {
          "base_uri": "https://localhost:8080/"
        }
      },
      "execution_count": null,
      "outputs": [
        {
          "output_type": "stream",
          "name": "stdout",
          "text": [
            "__main__\n"
          ]
        }
      ]
    },
    {
      "cell_type": "code",
      "source": [
        "a=[\n",
        "   [1,2],\n",
        "   [3,4],\n",
        "   [5,6]\n",
        "]"
      ],
      "metadata": {
        "id": "29MBknOENAjX"
      },
      "execution_count": null,
      "outputs": []
    },
    {
      "cell_type": "code",
      "source": [
        "for i in a:\n",
        "  print(i)"
      ],
      "metadata": {
        "colab": {
          "base_uri": "https://localhost:8080/"
        },
        "id": "ErDmomU92VXz",
        "outputId": "02445995-00c7-42ca-fed7-ffeca4f98f14"
      },
      "execution_count": null,
      "outputs": [
        {
          "output_type": "stream",
          "name": "stdout",
          "text": [
            "[1, 2]\n",
            "[3, 4]\n",
            "[5, 6]\n"
          ]
        }
      ]
    },
    {
      "cell_type": "code",
      "source": [
        "len(a)"
      ],
      "metadata": {
        "colab": {
          "base_uri": "https://localhost:8080/"
        },
        "id": "-ItonhrM2kyV",
        "outputId": "8133851e-984e-4c58-ffa6-b92cfd3b3d73"
      },
      "execution_count": null,
      "outputs": [
        {
          "output_type": "execute_result",
          "data": {
            "text/plain": [
              "3"
            ]
          },
          "metadata": {},
          "execution_count": 7
        }
      ]
    },
    {
      "cell_type": "code",
      "source": [
        "for i in range(len(a)):\n",
        "  print(a[i])"
      ],
      "metadata": {
        "colab": {
          "base_uri": "https://localhost:8080/"
        },
        "id": "jCdk9QZU2Xva",
        "outputId": "fec1b8fa-f7b3-4e8e-bfde-2c043d2a0a8b"
      },
      "execution_count": null,
      "outputs": [
        {
          "output_type": "stream",
          "name": "stdout",
          "text": [
            "[1, 2]\n",
            "[3, 4]\n",
            "[5, 6]\n"
          ]
        }
      ]
    },
    {
      "cell_type": "code",
      "source": [
        "# access element row by row\n",
        "for i in range(len(a)):\n",
        "  for j in range(len(a[i])):\n",
        "    print(a[i][j])"
      ],
      "metadata": {
        "colab": {
          "base_uri": "https://localhost:8080/"
        },
        "id": "hAYcHNIG2jpo",
        "outputId": "944b74b5-e083-4078-d837-6757b98601ce"
      },
      "execution_count": null,
      "outputs": [
        {
          "output_type": "stream",
          "name": "stdout",
          "text": [
            "1\n",
            "2\n",
            "3\n",
            "4\n",
            "5\n",
            "6\n"
          ]
        }
      ]
    },
    {
      "cell_type": "code",
      "source": [
        "# access element col by col\n",
        "for j in range(len(a[j])):\n",
        "  for i in range(len(a)):\n",
        "    print(a[i][j])"
      ],
      "metadata": {
        "colab": {
          "base_uri": "https://localhost:8080/"
        },
        "id": "f_dL51OR73Ff",
        "outputId": "d712bafd-d04b-4c43-d2ab-57d49ed03ad4"
      },
      "execution_count": null,
      "outputs": [
        {
          "output_type": "stream",
          "name": "stdout",
          "text": [
            "1\n",
            "3\n",
            "5\n",
            "2\n",
            "4\n",
            "6\n"
          ]
        }
      ]
    },
    {
      "cell_type": "code",
      "source": [
        "a=[\n",
        "   [96,99]\n",
        "]\n",
        "l=[]\n",
        "for i in range(len(a)):\n",
        "  som=0\n",
        "  for j in range(len(a[i])):\n",
        "    som=som+a[i][j]\n",
        "  l.append(som)\n",
        "for j in range(len(a[j])):\n",
        "  som=0\n",
        "  for i in range(len(a)):\n",
        "    som=som+a[i][j]\n",
        "  l.append(som)\n",
        "print(l)"
      ],
      "metadata": {
        "colab": {
          "base_uri": "https://localhost:8080/",
          "height": 245
        },
        "id": "BfMm79Ge_XcP",
        "outputId": "764a67c5-d468-4ba7-bdbf-d5b7c8e87ec9"
      },
      "execution_count": null,
      "outputs": [
        {
          "output_type": "error",
          "ename": "IndexError",
          "evalue": "ignored",
          "traceback": [
            "\u001b[0;31m---------------------------------------------------------------------------\u001b[0m",
            "\u001b[0;31mIndexError\u001b[0m                                Traceback (most recent call last)",
            "\u001b[0;32m<ipython-input-63-fbe83bd3e2df>\u001b[0m in \u001b[0;36m<module>\u001b[0;34m()\u001b[0m\n\u001b[1;32m      8\u001b[0m     \u001b[0msom\u001b[0m\u001b[0;34m=\u001b[0m\u001b[0msom\u001b[0m\u001b[0;34m+\u001b[0m\u001b[0ma\u001b[0m\u001b[0;34m[\u001b[0m\u001b[0mi\u001b[0m\u001b[0;34m]\u001b[0m\u001b[0;34m[\u001b[0m\u001b[0mj\u001b[0m\u001b[0;34m]\u001b[0m\u001b[0;34m\u001b[0m\u001b[0;34m\u001b[0m\u001b[0m\n\u001b[1;32m      9\u001b[0m   \u001b[0ml\u001b[0m\u001b[0;34m.\u001b[0m\u001b[0mappend\u001b[0m\u001b[0;34m(\u001b[0m\u001b[0msom\u001b[0m\u001b[0;34m)\u001b[0m\u001b[0;34m\u001b[0m\u001b[0;34m\u001b[0m\u001b[0m\n\u001b[0;32m---> 10\u001b[0;31m \u001b[0;32mfor\u001b[0m \u001b[0mj\u001b[0m \u001b[0;32min\u001b[0m \u001b[0mrange\u001b[0m\u001b[0;34m(\u001b[0m\u001b[0mlen\u001b[0m\u001b[0;34m(\u001b[0m\u001b[0ma\u001b[0m\u001b[0;34m[\u001b[0m\u001b[0mj\u001b[0m\u001b[0;34m]\u001b[0m\u001b[0;34m)\u001b[0m\u001b[0;34m)\u001b[0m\u001b[0;34m:\u001b[0m\u001b[0;34m\u001b[0m\u001b[0;34m\u001b[0m\u001b[0m\n\u001b[0m\u001b[1;32m     11\u001b[0m   \u001b[0msom\u001b[0m\u001b[0;34m=\u001b[0m\u001b[0;36m0\u001b[0m\u001b[0;34m\u001b[0m\u001b[0;34m\u001b[0m\u001b[0m\n\u001b[1;32m     12\u001b[0m   \u001b[0;32mfor\u001b[0m \u001b[0mi\u001b[0m \u001b[0;32min\u001b[0m \u001b[0mrange\u001b[0m\u001b[0;34m(\u001b[0m\u001b[0mlen\u001b[0m\u001b[0;34m(\u001b[0m\u001b[0ma\u001b[0m\u001b[0;34m)\u001b[0m\u001b[0;34m)\u001b[0m\u001b[0;34m:\u001b[0m\u001b[0;34m\u001b[0m\u001b[0;34m\u001b[0m\u001b[0m\n",
            "\u001b[0;31mIndexError\u001b[0m: list index out of range"
          ]
        }
      ]
    },
    {
      "cell_type": "code",
      "source": [
        "A=[\n",
        "  [31, 98, 42, 13, 29, 89, 63],\n",
        "  [59, 29, 65, 69, 75, 84, 23]\n",
        "]"
      ],
      "metadata": {
        "id": "IY45ioKqJ05d"
      },
      "execution_count": null,
      "outputs": []
    },
    {
      "cell_type": "code",
      "source": [
        "def solve(A):\n",
        "        l=[]\n",
        "        if len(A)>1:\n",
        "            for i in range(len(A)):\n",
        "                som=0\n",
        "                for j in range(len(A[i])):\n",
        "                    som=som+A[i][j]\n",
        "                l.append(som)\n",
        "        #     for j in range(len(A[j])):\n",
        "        #         som=0\n",
        "        #         for i in range(len(A)):\n",
        "        #             som=som+A[i][j]\n",
        "        #         l.append(som)\n",
        "        # else:\n",
        "        #     som=0\n",
        "        #     for i in range(len(A)):\n",
        "        #         for j in range(len(A[i])):\n",
        "        #             som=som+A[i][j]\n",
        "        #             l.append(som)\n",
        "        #     A.append(l)\n",
        "        return l"
      ],
      "metadata": {
        "id": "EhVPZ-R5BpsI"
      },
      "execution_count": null,
      "outputs": []
    },
    {
      "cell_type": "code",
      "source": [
        "solve(a)"
      ],
      "metadata": {
        "colab": {
          "base_uri": "https://localhost:8080/"
        },
        "id": "RhIMDfVXBshN",
        "outputId": "573486ad-69af-4a15-8e65-3970bac74e90"
      },
      "execution_count": null,
      "outputs": [
        {
          "output_type": "execute_result",
          "data": {
            "text/plain": [
              "[195, 291]"
            ]
          },
          "metadata": {},
          "execution_count": 71
        }
      ]
    },
    {
      "cell_type": "code",
      "source": [
        "len(A)"
      ],
      "metadata": {
        "colab": {
          "base_uri": "https://localhost:8080/"
        },
        "id": "b5FKjwyuKhub",
        "outputId": "074fea49-3f26-46b3-ac2d-3218c47476c6"
      },
      "execution_count": null,
      "outputs": [
        {
          "output_type": "execute_result",
          "data": {
            "text/plain": [
              "2"
            ]
          },
          "metadata": {},
          "execution_count": 73
        }
      ]
    },
    {
      "cell_type": "code",
      "source": [
        "A[0]"
      ],
      "metadata": {
        "colab": {
          "base_uri": "https://localhost:8080/"
        },
        "id": "Wj1IwruGJYYr",
        "outputId": "146380c1-e2b7-4ab5-f250-bcd359e87fc3"
      },
      "execution_count": null,
      "outputs": [
        {
          "output_type": "execute_result",
          "data": {
            "text/plain": [
              "[31, 98, 42, 13, 29, 89, 63]"
            ]
          },
          "metadata": {},
          "execution_count": 72
        }
      ]
    },
    {
      "cell_type": "code",
      "source": [
        "A=[[31, 98, 42, 13, 29, 89, 63]  [59, 29, 65, 69, 75, 84, 23]]"
      ],
      "metadata": {
        "colab": {
          "base_uri": "https://localhost:8080/",
          "height": 171
        },
        "id": "LdViI56FKdaQ",
        "outputId": "a8b9490d-0a38-4da2-83e7-20f80017d84b"
      },
      "execution_count": null,
      "outputs": [
        {
          "output_type": "error",
          "ename": "TypeError",
          "evalue": "ignored",
          "traceback": [
            "\u001b[0;31m---------------------------------------------------------------------------\u001b[0m",
            "\u001b[0;31mTypeError\u001b[0m                                 Traceback (most recent call last)",
            "\u001b[0;32m<ipython-input-77-81e7ed68ca74>\u001b[0m in \u001b[0;36m<module>\u001b[0;34m()\u001b[0m\n\u001b[0;32m----> 1\u001b[0;31m \u001b[0mA\u001b[0m\u001b[0;34m=\u001b[0m\u001b[0;34m[\u001b[0m\u001b[0;34m[\u001b[0m\u001b[0;36m31\u001b[0m\u001b[0;34m,\u001b[0m \u001b[0;36m98\u001b[0m\u001b[0;34m,\u001b[0m \u001b[0;36m42\u001b[0m\u001b[0;34m,\u001b[0m \u001b[0;36m13\u001b[0m\u001b[0;34m,\u001b[0m \u001b[0;36m29\u001b[0m\u001b[0;34m,\u001b[0m \u001b[0;36m89\u001b[0m\u001b[0;34m,\u001b[0m \u001b[0;36m63\u001b[0m\u001b[0;34m]\u001b[0m  \u001b[0;34m[\u001b[0m\u001b[0;36m59\u001b[0m\u001b[0;34m,\u001b[0m \u001b[0;36m29\u001b[0m\u001b[0;34m,\u001b[0m \u001b[0;36m65\u001b[0m\u001b[0;34m,\u001b[0m \u001b[0;36m69\u001b[0m\u001b[0;34m,\u001b[0m \u001b[0;36m75\u001b[0m\u001b[0;34m,\u001b[0m \u001b[0;36m84\u001b[0m\u001b[0;34m,\u001b[0m \u001b[0;36m23\u001b[0m\u001b[0;34m]\u001b[0m\u001b[0;34m]\u001b[0m\u001b[0;34m\u001b[0m\u001b[0;34m\u001b[0m\u001b[0m\n\u001b[0m",
            "\u001b[0;31mTypeError\u001b[0m: list indices must be integers or slices, not tuple"
          ]
        }
      ]
    },
    {
      "cell_type": "code",
      "source": [
        "r,c=map(int,input().split())"
      ],
      "metadata": {
        "colab": {
          "base_uri": "https://localhost:8080/"
        },
        "id": "lSX4WlajLETn",
        "outputId": "e0c77515-cb8c-492a-f09b-4acf7ff90943"
      },
      "execution_count": null,
      "outputs": [
        {
          "name": "stdout",
          "output_type": "stream",
          "text": [
            "3 4\n"
          ]
        }
      ]
    },
    {
      "cell_type": "code",
      "source": [
        "a=[]\n",
        "for i in range(r):\n",
        "  row=list(map(int,input().split()))\n",
        "  a.append(row)"
      ],
      "metadata": {
        "colab": {
          "base_uri": "https://localhost:8080/"
        },
        "id": "ATuFmUFQyWuC",
        "outputId": "07835b6f-0dbb-482a-b5eb-448d4194bbee"
      },
      "execution_count": null,
      "outputs": [
        {
          "name": "stdout",
          "output_type": "stream",
          "text": [
            "1 2 3 4 5\n",
            "1 2 3 4 5\n",
            "1 2 3 4 5\n"
          ]
        }
      ]
    },
    {
      "cell_type": "code",
      "source": [
        "a"
      ],
      "metadata": {
        "colab": {
          "base_uri": "https://localhost:8080/"
        },
        "id": "rxAfoTsdzFtz",
        "outputId": "d430ad1a-83ae-42cd-dd35-2473ef57cad6"
      },
      "execution_count": null,
      "outputs": [
        {
          "output_type": "execute_result",
          "data": {
            "text/plain": [
              "[[1, 2, 3, 4, 5], [1, 2, 3, 4, 5], [1, 2, 3, 4, 5]]"
            ]
          },
          "metadata": {},
          "execution_count": 3
        }
      ]
    },
    {
      "cell_type": "code",
      "source": [
        "a=[\n",
        "   [1,2],\n",
        "   [3,4]\n",
        "]\n",
        "\n",
        "b=[\n",
        "   [5,6],\n",
        "   [7,8]\n",
        "]\n",
        "fa=[]\n",
        "for i in range(len(a)):\n",
        "  row=[]\n",
        "  for j in range(len(a[i])):\n",
        "    row.append(a[i][j]+b[i][j])\n",
        "  fa.append(row)\n",
        "print(fa)"
      ],
      "metadata": {
        "colab": {
          "base_uri": "https://localhost:8080/"
        },
        "id": "LfqBqHpDzLFm",
        "outputId": "0ae2d86a-7434-4db8-ba5b-cb684ac2c628"
      },
      "execution_count": null,
      "outputs": [
        {
          "output_type": "stream",
          "name": "stdout",
          "text": [
            "[[6, 8], [10, 12]]\n"
          ]
        }
      ]
    },
    {
      "cell_type": "code",
      "source": [
        "a=[\n",
        "   [5,9,2],\n",
        "   [-3,0,9]\n",
        "]\n",
        "l=[]\n",
        "for i in range(len(a)):\n",
        "  som=0\n",
        "  for j in range(len(a[i])):\n",
        "    som=som+a[i][j]\n",
        "  l.append(som)\n",
        "print(l)"
      ],
      "metadata": {
        "colab": {
          "base_uri": "https://localhost:8080/"
        },
        "id": "SVLvaEtkDuAN",
        "outputId": "63139f9d-edab-46b0-e18f-122ce9082c33"
      },
      "execution_count": null,
      "outputs": [
        {
          "output_type": "stream",
          "name": "stdout",
          "text": [
            "[16, 6]\n"
          ]
        }
      ]
    },
    {
      "cell_type": "code",
      "source": [
        "a=[\n",
        "   [5,9,2],\n",
        "   [-3,0,9]\n",
        "]\n",
        "l=[]\n",
        "for i in a:\n",
        "  som=0\n",
        "  for j in i:\n",
        "    som+=j\n",
        "  l.append(som)\n",
        "print(l)"
      ],
      "metadata": {
        "colab": {
          "base_uri": "https://localhost:8080/"
        },
        "id": "9kLkdwWszIB1",
        "outputId": "155824be-9c23-4f25-ffcb-002559620510"
      },
      "execution_count": null,
      "outputs": [
        {
          "output_type": "stream",
          "name": "stdout",
          "text": [
            "[16, 6]\n"
          ]
        }
      ]
    },
    {
      "cell_type": "code",
      "source": [
        "a=[\n",
        "   [4,7],\n",
        "   [6,10]\n",
        "]\n",
        "sz=len(a)\n",
        "s=0\n",
        "for i in range(sz):\n",
        "  print(a[i][i],end=\" \")\n",
        "  s+=a[i][i]\n",
        "print()\n",
        "print(s)"
      ],
      "metadata": {
        "colab": {
          "base_uri": "https://localhost:8080/"
        },
        "id": "Wx9J-dIP-0fP",
        "outputId": "84839ae3-1479-4145-bcc0-1237d0e56eaa"
      },
      "execution_count": null,
      "outputs": [
        {
          "output_type": "stream",
          "name": "stdout",
          "text": [
            "4 10 \n",
            "14\n"
          ]
        }
      ]
    },
    {
      "cell_type": "code",
      "source": [
        " "
      ],
      "metadata": {
        "id": "C0w85pxK0MfR"
      },
      "execution_count": null,
      "outputs": []
    }
  ]
}