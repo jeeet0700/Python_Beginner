{
  "nbformat": 4,
  "nbformat_minor": 0,
  "metadata": {
    "colab": {
      "name": "W5D12_2DList.ipynb",
      "provenance": [],
      "authorship_tag": "ABX9TyP6fjMGhDuw/r/+4N/G97eF",
      "include_colab_link": true
    },
    "kernelspec": {
      "name": "python3",
      "display_name": "Python 3"
    },
    "language_info": {
      "name": "python"
    }
  },
  "cells": [
    {
      "cell_type": "markdown",
      "metadata": {
        "id": "view-in-github",
        "colab_type": "text"
      },
      "source": [
        "<a href=\"https://colab.research.google.com/github/jeeet0700/Python_Beginner/blob/master/W5D12_2DList.ipynb\" target=\"_parent\"><img src=\"https://colab.research.google.com/assets/colab-badge.svg\" alt=\"Open In Colab\"/></a>"
      ]
    },
    {
      "cell_type": "code",
      "execution_count": 1,
      "metadata": {
        "id": "feo6ZzxXupWp"
      },
      "outputs": [],
      "source": [
        "a=[\n",
        "   [2,3],\n",
        "   [4,5],\n",
        "   [6,7]\n",
        "]"
      ]
    },
    {
      "cell_type": "code",
      "source": [
        "for i in range(len(a)):\n",
        "  for j in range(len(a[i])):\n",
        "    print(a[i][j],end=\" \")\n",
        "  print()"
      ],
      "metadata": {
        "colab": {
          "base_uri": "https://localhost:8080/"
        },
        "id": "85Sy5QKUwh-B",
        "outputId": "48274951-26fb-4c6c-f5a3-56372062afda"
      },
      "execution_count": 5,
      "outputs": [
        {
          "output_type": "stream",
          "name": "stdout",
          "text": [
            "2 3 \n",
            "4 5 \n",
            "6 7 \n"
          ]
        }
      ]
    },
    {
      "cell_type": "code",
      "source": [
        "for i in range(len(a)):\n",
        "  for j in range(len(a[i])):\n",
        "    print(a[i][j]**2,end=\" \")\n",
        "  print()"
      ],
      "metadata": {
        "colab": {
          "base_uri": "https://localhost:8080/"
        },
        "id": "Vw4snWM4wu4Z",
        "outputId": "30c9723a-60ce-45f2-a4f0-d19ecc5b6dfc"
      },
      "execution_count": 6,
      "outputs": [
        {
          "output_type": "stream",
          "name": "stdout",
          "text": [
            "4 9 \n",
            "16 25 \n",
            "36 49 \n"
          ]
        }
      ]
    },
    {
      "cell_type": "markdown",
      "source": [
        "Reading 2D list i/p"
      ],
      "metadata": {
        "id": "pJqcXX7_xnrE"
      }
    },
    {
      "cell_type": "code",
      "source": [
        "r,c=map(int,input().split())\n",
        "print(r,c)"
      ],
      "metadata": {
        "colab": {
          "base_uri": "https://localhost:8080/"
        },
        "id": "NBfVOCfx0BeE",
        "outputId": "cc3b99fe-8ead-4de4-ff02-a7f1f9b648ab"
      },
      "execution_count": 9,
      "outputs": [
        {
          "output_type": "stream",
          "name": "stdout",
          "text": [
            "1 2\n",
            "1 2\n"
          ]
        }
      ]
    },
    {
      "cell_type": "code",
      "source": [
        "a,b,c,d=map(int,input().split())"
      ],
      "metadata": {
        "colab": {
          "base_uri": "https://localhost:8080/"
        },
        "id": "ItThpz6o0Hfw",
        "outputId": "ce936d1f-3f82-4dce-a2a2-8d89ef40f3a3"
      },
      "execution_count": 10,
      "outputs": [
        {
          "name": "stdout",
          "output_type": "stream",
          "text": [
            "1 2 3 4\n"
          ]
        }
      ]
    },
    {
      "cell_type": "code",
      "source": [
        "r,c=map(int,input().split())\n",
        "a=[]\n",
        "for i in range(r):\n",
        "  row=list(map(int,input().split()))\n",
        "  a.append(row)\n",
        "print(a)"
      ],
      "metadata": {
        "colab": {
          "base_uri": "https://localhost:8080/"
        },
        "id": "lAj_L2RkxewB",
        "outputId": "b1630c14-0088-46cc-9eb2-454066408eea"
      },
      "execution_count": 7,
      "outputs": [
        {
          "output_type": "stream",
          "name": "stdout",
          "text": [
            "2 3\n",
            "5 1 2\n",
            "11 22 33\n",
            "[[5, 1, 2], [11, 22, 33]]\n"
          ]
        }
      ]
    },
    {
      "cell_type": "code",
      "source": [
        "a=[\n",
        "   [2,3],\n",
        "   [4,5]\n",
        "]\n",
        "\n",
        "b=[\n",
        "   [11,22],\n",
        "   [33,44]\n",
        "]\n",
        "\n",
        "r=2\n",
        "c=2\n",
        "\n",
        "rec=[]\n",
        "\n",
        "for i in range(r):\n",
        "  row=[]\n",
        "  for j in range(c):\n",
        "    row.append(a[i][j] + b[i][j])\n",
        "  rec.append(row)\n",
        "print(rec)"
      ],
      "metadata": {
        "colab": {
          "base_uri": "https://localhost:8080/"
        },
        "id": "oN7SlKDIzgCq",
        "outputId": "c2b1ab74-31ff-4f6b-8bbb-e9af29bc7bd4"
      },
      "execution_count": 12,
      "outputs": [
        {
          "output_type": "stream",
          "name": "stdout",
          "text": [
            "[[13, 25], [37, 49]]\n"
          ]
        }
      ]
    },
    {
      "cell_type": "code",
      "source": [
        ""
      ],
      "metadata": {
        "id": "mNLCt5Hh6l9j"
      },
      "execution_count": null,
      "outputs": []
    }
  ]
}