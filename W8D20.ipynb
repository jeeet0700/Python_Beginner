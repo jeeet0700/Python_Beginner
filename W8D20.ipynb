{
  "nbformat": 4,
  "nbformat_minor": 0,
  "metadata": {
    "colab": {
      "name": "W8D20.ipynb",
      "provenance": [],
      "authorship_tag": "ABX9TyPTpOxyyBIW9zHOdfK805Kk",
      "include_colab_link": true
    },
    "kernelspec": {
      "name": "python3",
      "display_name": "Python 3"
    },
    "language_info": {
      "name": "python"
    }
  },
  "cells": [
    {
      "cell_type": "markdown",
      "metadata": {
        "id": "view-in-github",
        "colab_type": "text"
      },
      "source": [
        "<a href=\"https://colab.research.google.com/github/jeeet0700/Python_Beginner/blob/master/W8D20.ipynb\" target=\"_parent\"><img src=\"https://colab.research.google.com/assets/colab-badge.svg\" alt=\"Open In Colab\"/></a>"
      ]
    },
    {
      "cell_type": "code",
      "execution_count": 2,
      "metadata": {
        "colab": {
          "base_uri": "https://localhost:8080/"
        },
        "id": "vzzxyguiVTA5",
        "outputId": "dbd2895c-a484-4dff-da36-b853ad1fa9fe"
      },
      "outputs": [
        {
          "output_type": "stream",
          "name": "stdout",
          "text": [
            "140421931120192 140421931120192\n",
            "[[1, 2, 3], [4, 'Jeeet', 6]] [[1, 2, 3], [4, 'Jeeet', 6]]\n",
            "[['mahato', 2, 3], [4, 'Jeeet', 6]] [['mahato', 2, 3], [4, 'Jeeet', 6]]\n"
          ]
        }
      ],
      "source": [
        "a=[\n",
        "   [1,2,3],\n",
        "   [4,5,6]\n",
        "]\n",
        "b=a\n",
        "print(id(a),id(b))\n",
        "a[1][1]=\"Jeeet\"\n",
        "print(a,b)\n",
        "b[0][0]=\"mahato\"\n",
        "print(a,b)"
      ]
    },
    {
      "cell_type": "code",
      "source": [
        "from copy import copy\n",
        "a=[[1,2,3],[4,5,6]]\n",
        "b=copy(a)\n",
        "print(id(a),id(b))\n",
        "print(id(a[0]),id(b[0]))"
      ],
      "metadata": {
        "colab": {
          "base_uri": "https://localhost:8080/"
        },
        "id": "x0zjiYQOYZ-9",
        "outputId": "251d816b-8c28-4125-9617-b5f6813f1d0d"
      },
      "execution_count": 3,
      "outputs": [
        {
          "output_type": "stream",
          "name": "stdout",
          "text": [
            "140242199210176 140242197989248\n",
            "140242197951824 140242197951824\n"
          ]
        }
      ]
    },
    {
      "cell_type": "code",
      "source": [
        ""
      ],
      "metadata": {
        "id": "DSHmqhAvn7lL"
      },
      "execution_count": null,
      "outputs": []
    }
  ]
}