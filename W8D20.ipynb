{
  "nbformat": 4,
  "nbformat_minor": 0,
  "metadata": {
    "colab": {
      "name": "W8D20.ipynb",
      "provenance": [],
      "authorship_tag": "ABX9TyM7ezB1s+v7YhnzFJC/b+uA",
      "include_colab_link": true
    },
    "kernelspec": {
      "name": "python3",
      "display_name": "Python 3"
    },
    "language_info": {
      "name": "python"
    }
  },
  "cells": [
    {
      "cell_type": "markdown",
      "metadata": {
        "id": "view-in-github",
        "colab_type": "text"
      },
      "source": [
        "<a href=\"https://colab.research.google.com/github/jeeet0700/Python_Beginner/blob/master/W8D20.ipynb\" target=\"_parent\"><img src=\"https://colab.research.google.com/assets/colab-badge.svg\" alt=\"Open In Colab\"/></a>"
      ]
    },
    {
      "cell_type": "code",
      "execution_count": 2,
      "metadata": {
        "colab": {
          "base_uri": "https://localhost:8080/"
        },
        "id": "vzzxyguiVTA5",
        "outputId": "dbd2895c-a484-4dff-da36-b853ad1fa9fe"
      },
      "outputs": [
        {
          "output_type": "stream",
          "name": "stdout",
          "text": [
            "140421931120192 140421931120192\n",
            "[[1, 2, 3], [4, 'Jeeet', 6]] [[1, 2, 3], [4, 'Jeeet', 6]]\n",
            "[['mahato', 2, 3], [4, 'Jeeet', 6]] [['mahato', 2, 3], [4, 'Jeeet', 6]]\n"
          ]
        }
      ],
      "source": [
        "a=[\n",
        "   [1,2,3],\n",
        "   [4,5,6]\n",
        "]\n",
        "b=a\n",
        "print(id(a),id(b))\n",
        "a[1][1]=\"Jeeet\"\n",
        "print(a,b)\n",
        "b[0][0]=\"mahato\"\n",
        "print(a,b)"
      ]
    },
    {
      "cell_type": "code",
      "source": [
        "from copy import copy\n",
        "a=[[1,2,3],[4,5,6]]\n",
        "b=copy(a)\n",
        "print(id(a),id(b))\n",
        "print(id(a[0]),id(b[0]))"
      ],
      "metadata": {
        "colab": {
          "base_uri": "https://localhost:8080/"
        },
        "id": "x0zjiYQOYZ-9",
        "outputId": "251d816b-8c28-4125-9617-b5f6813f1d0d"
      },
      "execution_count": 3,
      "outputs": [
        {
          "output_type": "stream",
          "name": "stdout",
          "text": [
            "140242199210176 140242197989248\n",
            "140242197951824 140242197951824\n"
          ]
        }
      ]
    },
    {
      "cell_type": "code",
      "source": [
        "from copy import copy\n",
        "a=[[1,2,3],[4,5,6]]\n",
        "b=copy(a)\n",
        "print(id(a),id(b))\n",
        "print(id(a[0]),id(b[0]))\n",
        "a[0][0]=\"Hello\"\n",
        "print(a,b)"
      ],
      "metadata": {
        "colab": {
          "base_uri": "https://localhost:8080/"
        },
        "id": "DSHmqhAvn7lL",
        "outputId": "53dca1a3-3406-4237-a728-ecdc20bd3cb8"
      },
      "execution_count": 4,
      "outputs": [
        {
          "output_type": "stream",
          "name": "stdout",
          "text": [
            "140242197476048 140242197539008\n",
            "140242197477248 140242197477248\n",
            "[['Hello', 2, 3], [4, 5, 6]] [['Hello', 2, 3], [4, 5, 6]]\n"
          ]
        }
      ]
    },
    {
      "cell_type": "code",
      "source": [
        "from copy import deepcopy\n",
        "a=[\n",
        "   [1,2,3],\n",
        "   [4,5,6]\n",
        "]\n",
        "b=deepcopy(a)\n",
        "print(id(a),id(b))\n",
        "print(id(a[0]),id([b[0]]))\n",
        "print(id(a[1]),id([b[1]]))"
      ],
      "metadata": {
        "colab": {
          "base_uri": "https://localhost:8080/"
        },
        "id": "VrBnc0R1ogoa",
        "outputId": "32328424-3fca-40bf-c3fd-817c87e34cbe"
      },
      "execution_count": 7,
      "outputs": [
        {
          "output_type": "stream",
          "name": "stdout",
          "text": [
            "140242197865008 140242197923952\n",
            "140242197532256 140242197435488\n",
            "140242197539088 140242197635152\n"
          ]
        }
      ]
    },
    {
      "cell_type": "code",
      "source": [
        ""
      ],
      "metadata": {
        "id": "c5LY5OJrpIiw"
      },
      "execution_count": null,
      "outputs": []
    }
  ]
}