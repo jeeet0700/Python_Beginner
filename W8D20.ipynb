{
  "nbformat": 4,
  "nbformat_minor": 0,
  "metadata": {
    "colab": {
      "name": "W8D20.ipynb",
      "provenance": [],
      "authorship_tag": "ABX9TyMcrFvlTeBMdfs8aI/R5MPr",
      "include_colab_link": true
    },
    "kernelspec": {
      "name": "python3",
      "display_name": "Python 3"
    },
    "language_info": {
      "name": "python"
    }
  },
  "cells": [
    {
      "cell_type": "markdown",
      "metadata": {
        "id": "view-in-github",
        "colab_type": "text"
      },
      "source": [
        "<a href=\"https://colab.research.google.com/github/jeeet0700/Python_Beginner/blob/master/W8D20.ipynb\" target=\"_parent\"><img src=\"https://colab.research.google.com/assets/colab-badge.svg\" alt=\"Open In Colab\"/></a>"
      ]
    },
    {
      "cell_type": "markdown",
      "source": [
        "##Shallow Copy & Deep Copy"
      ],
      "metadata": {
        "id": "XiINpRQO0oIq"
      }
    },
    {
      "cell_type": "code",
      "execution_count": null,
      "metadata": {
        "colab": {
          "base_uri": "https://localhost:8080/"
        },
        "id": "vzzxyguiVTA5",
        "outputId": "dbd2895c-a484-4dff-da36-b853ad1fa9fe"
      },
      "outputs": [
        {
          "output_type": "stream",
          "name": "stdout",
          "text": [
            "140421931120192 140421931120192\n",
            "[[1, 2, 3], [4, 'Jeeet', 6]] [[1, 2, 3], [4, 'Jeeet', 6]]\n",
            "[['mahato', 2, 3], [4, 'Jeeet', 6]] [['mahato', 2, 3], [4, 'Jeeet', 6]]\n"
          ]
        }
      ],
      "source": [
        "a=[\n",
        "   [1,2,3],\n",
        "   [4,5,6]\n",
        "]\n",
        "b=a\n",
        "print(id(a),id(b))\n",
        "a[1][1]=\"Jeeet\"\n",
        "print(a,b)\n",
        "b[0][0]=\"mahato\"\n",
        "print(a,b)"
      ]
    },
    {
      "cell_type": "code",
      "source": [
        "from copy import copy\n",
        "a=[[1,2,3],[4,5,6]]\n",
        "b=copy(a)\n",
        "print(id(a),id(b))\n",
        "print(id(a[0]),id(b[0]))"
      ],
      "metadata": {
        "colab": {
          "base_uri": "https://localhost:8080/"
        },
        "id": "x0zjiYQOYZ-9",
        "outputId": "251d816b-8c28-4125-9617-b5f6813f1d0d"
      },
      "execution_count": null,
      "outputs": [
        {
          "output_type": "stream",
          "name": "stdout",
          "text": [
            "140242199210176 140242197989248\n",
            "140242197951824 140242197951824\n"
          ]
        }
      ]
    },
    {
      "cell_type": "code",
      "source": [
        "from copy import copy\n",
        "a=[[1,2,3],[4,5,6]]\n",
        "b=copy(a)\n",
        "print(id(a),id(b))\n",
        "print(id(a[0]),id(b[0]))\n",
        "a[0][0]=\"Hello\"\n",
        "print(a,b)"
      ],
      "metadata": {
        "colab": {
          "base_uri": "https://localhost:8080/"
        },
        "id": "DSHmqhAvn7lL",
        "outputId": "53dca1a3-3406-4237-a728-ecdc20bd3cb8"
      },
      "execution_count": null,
      "outputs": [
        {
          "output_type": "stream",
          "name": "stdout",
          "text": [
            "140242197476048 140242197539008\n",
            "140242197477248 140242197477248\n",
            "[['Hello', 2, 3], [4, 5, 6]] [['Hello', 2, 3], [4, 5, 6]]\n"
          ]
        }
      ]
    },
    {
      "cell_type": "code",
      "source": [
        "from copy import deepcopy\n",
        "a=[\n",
        "   [1,2,3],\n",
        "   [4,5,6]\n",
        "]\n",
        "b=deepcopy(a)\n",
        "print(id(a),id(b))\n",
        "print(id(a[0]),id([b[0]]))\n",
        "print(id(a[1]),id([b[1]]))"
      ],
      "metadata": {
        "colab": {
          "base_uri": "https://localhost:8080/"
        },
        "id": "VrBnc0R1ogoa",
        "outputId": "32328424-3fca-40bf-c3fd-817c87e34cbe"
      },
      "execution_count": null,
      "outputs": [
        {
          "output_type": "stream",
          "name": "stdout",
          "text": [
            "140242197865008 140242197923952\n",
            "140242197532256 140242197435488\n",
            "140242197539088 140242197635152\n"
          ]
        }
      ]
    },
    {
      "cell_type": "markdown",
      "source": [
        "##Lambda Function"
      ],
      "metadata": {
        "id": "P--TW4nx030G"
      }
    },
    {
      "cell_type": "code",
      "source": [
        "def sqr(x):\n",
        "  return 2*x\n",
        "sqr(10)"
      ],
      "metadata": {
        "colab": {
          "base_uri": "https://localhost:8080/"
        },
        "id": "c5LY5OJrpIiw",
        "outputId": "e67e764a-49aa-4470-e6c0-d29ec4353591"
      },
      "execution_count": null,
      "outputs": [
        {
          "output_type": "execute_result",
          "data": {
            "text/plain": [
              "20"
            ]
          },
          "metadata": {},
          "execution_count": 8
        }
      ]
    },
    {
      "cell_type": "code",
      "source": [
        "a=lambda x : x*2\n",
        "a(10)"
      ],
      "metadata": {
        "colab": {
          "base_uri": "https://localhost:8080/"
        },
        "id": "uMSRI_6O2dO3",
        "outputId": "5384c242-6e8e-402a-8173-b577b8474299"
      },
      "execution_count": null,
      "outputs": [
        {
          "output_type": "execute_result",
          "data": {
            "text/plain": [
              "20"
            ]
          },
          "metadata": {},
          "execution_count": 9
        }
      ]
    },
    {
      "cell_type": "code",
      "source": [
        "(lambda x : x*2)(10)"
      ],
      "metadata": {
        "colab": {
          "base_uri": "https://localhost:8080/"
        },
        "id": "KDvR1r2L2jm4",
        "outputId": "ff6f0e09-09b8-4bed-be2a-7655d9d4921f"
      },
      "execution_count": null,
      "outputs": [
        {
          "output_type": "execute_result",
          "data": {
            "text/plain": [
              "20"
            ]
          },
          "metadata": {},
          "execution_count": 10
        }
      ]
    },
    {
      "cell_type": "code",
      "source": [
        "(lambda x : x%2)(10)"
      ],
      "metadata": {
        "colab": {
          "base_uri": "https://localhost:8080/"
        },
        "id": "b10NZbLm3HDt",
        "outputId": "6299ca69-1f09-4675-905f-1edc8b7698a3"
      },
      "execution_count": null,
      "outputs": [
        {
          "output_type": "execute_result",
          "data": {
            "text/plain": [
              "0"
            ]
          },
          "metadata": {},
          "execution_count": 11
        }
      ]
    },
    {
      "cell_type": "code",
      "source": [
        "def add(x,y):\n",
        "  return x+y\n",
        "add(10,20)"
      ],
      "metadata": {
        "colab": {
          "base_uri": "https://localhost:8080/"
        },
        "id": "oTUZ8LUx4P7E",
        "outputId": "71cd94e8-4b9f-421e-f3f7-045c5cab2d4f"
      },
      "execution_count": null,
      "outputs": [
        {
          "output_type": "execute_result",
          "data": {
            "text/plain": [
              "30"
            ]
          },
          "metadata": {},
          "execution_count": 12
        }
      ]
    },
    {
      "cell_type": "code",
      "source": [
        "(lambda x,y : x+y)(10,20)"
      ],
      "metadata": {
        "colab": {
          "base_uri": "https://localhost:8080/"
        },
        "id": "OZEpB7M9NbGI",
        "outputId": "9c1ace5f-312f-4ee0-c2dc-c3096dc83fd3"
      },
      "execution_count": null,
      "outputs": [
        {
          "output_type": "execute_result",
          "data": {
            "text/plain": [
              "30"
            ]
          },
          "metadata": {},
          "execution_count": 15
        }
      ]
    },
    {
      "cell_type": "code",
      "source": [
        "a=lambda x : 3*x\n",
        "a(3)"
      ],
      "metadata": {
        "colab": {
          "base_uri": "https://localhost:8080/"
        },
        "id": "XMJALt_QNnUx",
        "outputId": "c87b9f87-b9de-44a3-da01-4d5a486dbfad"
      },
      "execution_count": null,
      "outputs": [
        {
          "output_type": "execute_result",
          "data": {
            "text/plain": [
              "9"
            ]
          },
          "metadata": {},
          "execution_count": 16
        }
      ]
    },
    {
      "cell_type": "code",
      "source": [
        "signal='black'\n",
        "a = \"stop\" if signal == 'red' else \"go\"\n",
        "print(a)"
      ],
      "metadata": {
        "id": "CCXdL95eQQNp",
        "colab": {
          "base_uri": "https://localhost:8080/"
        },
        "outputId": "d0295024-172f-47b9-f65e-e3b075cef99f"
      },
      "execution_count": null,
      "outputs": [
        {
          "output_type": "stream",
          "name": "stdout",
          "text": [
            "go\n"
          ]
        }
      ]
    },
    {
      "cell_type": "code",
      "source": [
        "def sqt(x):\n",
        "  return x*2\n",
        "sqt(20)"
      ],
      "metadata": {
        "colab": {
          "base_uri": "https://localhost:8080/"
        },
        "id": "CfwXHvHaooZB",
        "outputId": "d6bdfc91-1069-492b-f891-2b418c7fd5fa"
      },
      "execution_count": null,
      "outputs": [
        {
          "output_type": "execute_result",
          "data": {
            "text/plain": [
              "40"
            ]
          },
          "metadata": {},
          "execution_count": 6
        }
      ]
    },
    {
      "cell_type": "code",
      "source": [
        "(lambda x : x*2)(20)"
      ],
      "metadata": {
        "colab": {
          "base_uri": "https://localhost:8080/"
        },
        "id": "UyAUni-KsOsM",
        "outputId": "214832d5-30fb-44a1-e921-2bff99392b87"
      },
      "execution_count": null,
      "outputs": [
        {
          "output_type": "execute_result",
          "data": {
            "text/plain": [
              "40"
            ]
          },
          "metadata": {},
          "execution_count": 7
        }
      ]
    },
    {
      "cell_type": "code",
      "source": [
        "a=lambda x : x*2\n",
        "a(20)"
      ],
      "metadata": {
        "colab": {
          "base_uri": "https://localhost:8080/"
        },
        "id": "_9odrs5LsUai",
        "outputId": "b62459f7-df43-412f-9ef4-d0ed742b5d53"
      },
      "execution_count": null,
      "outputs": [
        {
          "output_type": "execute_result",
          "data": {
            "text/plain": [
              "40"
            ]
          },
          "metadata": {},
          "execution_count": 2
        }
      ]
    },
    {
      "cell_type": "code",
      "source": [
        "def add(x,y):\n",
        "  return x+y\n",
        "add(2,3)"
      ],
      "metadata": {
        "colab": {
          "base_uri": "https://localhost:8080/"
        },
        "id": "HMjNDeJAscV7",
        "outputId": "a43ce9d2-3d31-41ff-ee28-1b83917cd17f"
      },
      "execution_count": null,
      "outputs": [
        {
          "output_type": "execute_result",
          "data": {
            "text/plain": [
              "5"
            ]
          },
          "metadata": {},
          "execution_count": 13
        }
      ]
    },
    {
      "cell_type": "code",
      "source": [
        "(lambda x,y : x+y)(2,3)"
      ],
      "metadata": {
        "colab": {
          "base_uri": "https://localhost:8080/"
        },
        "id": "T5eiXwSxtd2I",
        "outputId": "6ff1b62b-fe6f-415c-b51b-70ccbe7b1147"
      },
      "execution_count": null,
      "outputs": [
        {
          "output_type": "execute_result",
          "data": {
            "text/plain": [
              "5"
            ]
          },
          "metadata": {},
          "execution_count": 14
        }
      ]
    },
    {
      "cell_type": "code",
      "source": [
        "a=lambda x,y : x+y\n",
        "print(a(2,3))"
      ],
      "metadata": {
        "colab": {
          "base_uri": "https://localhost:8080/"
        },
        "id": "WQHIFQI2tjHT",
        "outputId": "a588e1ec-ec91-4c32-99bb-3f987072e204"
      },
      "execution_count": null,
      "outputs": [
        {
          "output_type": "stream",
          "name": "stdout",
          "text": [
            "5\n"
          ]
        }
      ]
    },
    {
      "cell_type": "code",
      "source": [
        "fun = lambda x : return x*2\n",
        "print(fun(2))"
      ],
      "metadata": {
        "colab": {
          "base_uri": "https://localhost:8080/",
          "height": 133
        },
        "id": "qJ9DWQjatpBR",
        "outputId": "c4430272-c196-469e-dd2a-cec853ac6c97"
      },
      "execution_count": null,
      "outputs": [
        {
          "output_type": "error",
          "ename": "SyntaxError",
          "evalue": "ignored",
          "traceback": [
            "\u001b[0;36m  File \u001b[0;32m\"<ipython-input-17-f96d04eb5794>\"\u001b[0;36m, line \u001b[0;32m1\u001b[0m\n\u001b[0;31m    fun = lambda x : return x*2\u001b[0m\n\u001b[0m                          ^\u001b[0m\n\u001b[0;31mSyntaxError\u001b[0m\u001b[0;31m:\u001b[0m invalid syntax\n"
          ]
        }
      ]
    },
    {
      "cell_type": "code",
      "source": [
        "(lambda num : (num-10)*2/4)(20)"
      ],
      "metadata": {
        "colab": {
          "base_uri": "https://localhost:8080/"
        },
        "id": "4jqHw-STt-Pa",
        "outputId": "af3f5a76-9505-4111-81b2-c2797be3de07"
      },
      "execution_count": null,
      "outputs": [
        {
          "output_type": "execute_result",
          "data": {
            "text/plain": [
              "5.0"
            ]
          },
          "metadata": {},
          "execution_count": 18
        }
      ]
    },
    {
      "cell_type": "code",
      "source": [
        "n=int(input())\n",
        "a = lambda x : n*x\n",
        "print(a(3))"
      ],
      "metadata": {
        "colab": {
          "base_uri": "https://localhost:8080/"
        },
        "id": "9bc4I1QnuPGA",
        "outputId": "fbfac734-adb2-419a-c1af-1b6a21675418"
      },
      "execution_count": null,
      "outputs": [
        {
          "output_type": "stream",
          "name": "stdout",
          "text": [
            "5\n",
            "15\n"
          ]
        }
      ]
    },
    {
      "cell_type": "code",
      "source": [
        "def multi(num):\n",
        "  return lambda x : num*x\n",
        "multi(5)(3)"
      ],
      "metadata": {
        "colab": {
          "base_uri": "https://localhost:8080/"
        },
        "id": "rspE2xZa00nv",
        "outputId": "7d55dac1-7c9f-4fd8-bf53-fcb363c4952e"
      },
      "execution_count": null,
      "outputs": [
        {
          "output_type": "execute_result",
          "data": {
            "text/plain": [
              "15"
            ]
          },
          "metadata": {},
          "execution_count": 23
        }
      ]
    },
    {
      "cell_type": "code",
      "source": [
        "def outer():\n",
        "  num=10\n",
        "  def inner():\n",
        "    print(\"Hello\")\n",
        "  # inner()\n",
        "  print(num)\n",
        "outer()"
      ],
      "metadata": {
        "colab": {
          "base_uri": "https://localhost:8080/"
        },
        "id": "vKQNqHQm2Yq0",
        "outputId": "79255fdf-4009-4f78-92de-4af9c0d0fd5b"
      },
      "execution_count": null,
      "outputs": [
        {
          "output_type": "stream",
          "name": "stdout",
          "text": [
            "10\n"
          ]
        }
      ]
    },
    {
      "cell_type": "code",
      "source": [
        "def outer():\n",
        "  num=10\n",
        "  def inner():\n",
        "    print(\"Hello\")\n",
        "  inner()\n",
        "  print(num)\n",
        "outer()"
      ],
      "metadata": {
        "colab": {
          "base_uri": "https://localhost:8080/"
        },
        "id": "KCS7KkGf5eW5",
        "outputId": "da37fe7d-c7c1-4747-c436-d2543fd9c434"
      },
      "execution_count": null,
      "outputs": [
        {
          "output_type": "stream",
          "name": "stdout",
          "text": [
            "Hello\n",
            "10\n"
          ]
        }
      ]
    },
    {
      "cell_type": "code",
      "source": [
        "a=lambda x: 3*x\n",
        "a(3)"
      ],
      "metadata": {
        "colab": {
          "base_uri": "https://localhost:8080/"
        },
        "id": "xc6FHXsA5h5v",
        "outputId": "b6f2b872-703c-4475-e5d5-5294d27990d0"
      },
      "execution_count": null,
      "outputs": [
        {
          "output_type": "execute_result",
          "data": {
            "text/plain": [
              "9"
            ]
          },
          "metadata": {},
          "execution_count": 1
        }
      ]
    },
    {
      "cell_type": "code",
      "source": [
        "def sqr(x):\n",
        "  return x**2\n",
        "\n",
        "def cube(x):\n",
        "  return x**3"
      ],
      "metadata": {
        "id": "XandYca_2aux"
      },
      "execution_count": null,
      "outputs": []
    },
    {
      "cell_type": "code",
      "source": [
        "func={'sqr': sqr,'cube':cube}\n",
        "func['sqr'](20)"
      ],
      "metadata": {
        "colab": {
          "base_uri": "https://localhost:8080/"
        },
        "id": "mpGykv6vBiQp",
        "outputId": "2715121a-2f65-4266-8105-962f23ecde95"
      },
      "execution_count": null,
      "outputs": [
        {
          "output_type": "execute_result",
          "data": {
            "text/plain": [
              "400"
            ]
          },
          "metadata": {},
          "execution_count": 9
        }
      ]
    },
    {
      "cell_type": "code",
      "source": [
        "for i in func:\n",
        "  print(func[i](10))"
      ],
      "metadata": {
        "colab": {
          "base_uri": "https://localhost:8080/"
        },
        "id": "tq9vu-8XBwSX",
        "outputId": "c1f49bfd-117c-4961-a627-ccd0e5fd81aa"
      },
      "execution_count": null,
      "outputs": [
        {
          "output_type": "stream",
          "name": "stdout",
          "text": [
            "100\n",
            "1000\n"
          ]
        }
      ]
    },
    {
      "cell_type": "code",
      "source": [
        "def fun(x):\n",
        "  x=[1,2,3]\n",
        "  return x\n",
        "\n",
        "x=[4,5,6]\n",
        "print(x)\n",
        "print(fun(x))\n",
        "print(x)"
      ],
      "metadata": {
        "colab": {
          "base_uri": "https://localhost:8080/"
        },
        "id": "LKwGJyQuCSKU",
        "outputId": "1d0f6a7f-abf7-40a6-c3cd-7c0cac9e9e3c"
      },
      "execution_count": null,
      "outputs": [
        {
          "output_type": "stream",
          "name": "stdout",
          "text": [
            "[4, 5, 6]\n",
            "[1, 2, 3]\n",
            "[4, 5, 6]\n"
          ]
        }
      ]
    },
    {
      "cell_type": "markdown",
      "source": [
        "##Functional Programing"
      ],
      "metadata": {
        "id": "1h8d5qXYV2Wx"
      }
    },
    {
      "cell_type": "code",
      "source": [
        "x=5\n",
        "x=2*x\n",
        "x+=1\n",
        "print(x)"
      ],
      "metadata": {
        "colab": {
          "base_uri": "https://localhost:8080/"
        },
        "id": "4lb1xTyCGbyw",
        "outputId": "42641fb7-0cdd-45ac-f3f0-2c9ee1eae242"
      },
      "execution_count": null,
      "outputs": [
        {
          "output_type": "stream",
          "name": "stdout",
          "text": [
            "11\n"
          ]
        }
      ]
    },
    {
      "cell_type": "code",
      "source": [
        "x=5\n",
        "def ops(x):\n",
        "  x=x*2\n",
        "  x+=1\n",
        "  return x\n",
        "print(x)\n",
        "print(ops(x))\n",
        "print(x)"
      ],
      "metadata": {
        "colab": {
          "base_uri": "https://localhost:8080/"
        },
        "id": "1oz2joDCXGov",
        "outputId": "76cf5ed5-4583-4074-82d8-7c328be560a0"
      },
      "execution_count": null,
      "outputs": [
        {
          "output_type": "stream",
          "name": "stdout",
          "text": [
            "5\n",
            "11\n",
            "5\n"
          ]
        }
      ]
    },
    {
      "cell_type": "code",
      "source": [
        ""
      ],
      "metadata": {
        "id": "iTOJQ2PeXZN1"
      },
      "execution_count": null,
      "outputs": []
    }
  ]
}