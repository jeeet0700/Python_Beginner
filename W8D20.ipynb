{
  "nbformat": 4,
  "nbformat_minor": 0,
  "metadata": {
    "colab": {
      "name": "W8D20.ipynb",
      "provenance": [],
      "authorship_tag": "ABX9TyPbMdWdhF/v64XZW45tMWhH",
      "include_colab_link": true
    },
    "kernelspec": {
      "name": "python3",
      "display_name": "Python 3"
    },
    "language_info": {
      "name": "python"
    }
  },
  "cells": [
    {
      "cell_type": "markdown",
      "metadata": {
        "id": "view-in-github",
        "colab_type": "text"
      },
      "source": [
        "<a href=\"https://colab.research.google.com/github/jeeet0700/Python_Beginner/blob/master/W8D20.ipynb\" target=\"_parent\"><img src=\"https://colab.research.google.com/assets/colab-badge.svg\" alt=\"Open In Colab\"/></a>"
      ]
    },
    {
      "cell_type": "markdown",
      "source": [
        "##Shallow Copy & Deep Copy"
      ],
      "metadata": {
        "id": "XiINpRQO0oIq"
      }
    },
    {
      "cell_type": "code",
      "execution_count": null,
      "metadata": {
        "colab": {
          "base_uri": "https://localhost:8080/"
        },
        "id": "vzzxyguiVTA5",
        "outputId": "dbd2895c-a484-4dff-da36-b853ad1fa9fe"
      },
      "outputs": [
        {
          "output_type": "stream",
          "name": "stdout",
          "text": [
            "140421931120192 140421931120192\n",
            "[[1, 2, 3], [4, 'Jeeet', 6]] [[1, 2, 3], [4, 'Jeeet', 6]]\n",
            "[['mahato', 2, 3], [4, 'Jeeet', 6]] [['mahato', 2, 3], [4, 'Jeeet', 6]]\n"
          ]
        }
      ],
      "source": [
        "a=[\n",
        "   [1,2,3],\n",
        "   [4,5,6]\n",
        "]\n",
        "b=a\n",
        "print(id(a),id(b))\n",
        "a[1][1]=\"Jeeet\"\n",
        "print(a,b)\n",
        "b[0][0]=\"mahato\"\n",
        "print(a,b)"
      ]
    },
    {
      "cell_type": "code",
      "source": [
        "from copy import copy\n",
        "a=[[1,2,3],[4,5,6]]\n",
        "b=copy(a)\n",
        "print(id(a),id(b))\n",
        "print(id(a[0]),id(b[0]))"
      ],
      "metadata": {
        "colab": {
          "base_uri": "https://localhost:8080/"
        },
        "id": "x0zjiYQOYZ-9",
        "outputId": "251d816b-8c28-4125-9617-b5f6813f1d0d"
      },
      "execution_count": null,
      "outputs": [
        {
          "output_type": "stream",
          "name": "stdout",
          "text": [
            "140242199210176 140242197989248\n",
            "140242197951824 140242197951824\n"
          ]
        }
      ]
    },
    {
      "cell_type": "code",
      "source": [
        "from copy import copy\n",
        "a=[[1,2,3],[4,5,6]]\n",
        "b=copy(a)\n",
        "print(id(a),id(b))\n",
        "print(id(a[0]),id(b[0]))\n",
        "a[0][0]=\"Hello\"\n",
        "print(a,b)"
      ],
      "metadata": {
        "colab": {
          "base_uri": "https://localhost:8080/"
        },
        "id": "DSHmqhAvn7lL",
        "outputId": "53dca1a3-3406-4237-a728-ecdc20bd3cb8"
      },
      "execution_count": null,
      "outputs": [
        {
          "output_type": "stream",
          "name": "stdout",
          "text": [
            "140242197476048 140242197539008\n",
            "140242197477248 140242197477248\n",
            "[['Hello', 2, 3], [4, 5, 6]] [['Hello', 2, 3], [4, 5, 6]]\n"
          ]
        }
      ]
    },
    {
      "cell_type": "code",
      "source": [
        "from copy import deepcopy\n",
        "a=[\n",
        "   [1,2,3],\n",
        "   [4,5,6]\n",
        "]\n",
        "b=deepcopy(a)\n",
        "print(id(a),id(b))\n",
        "print(id(a[0]),id([b[0]]))\n",
        "print(id(a[1]),id([b[1]]))"
      ],
      "metadata": {
        "colab": {
          "base_uri": "https://localhost:8080/"
        },
        "id": "VrBnc0R1ogoa",
        "outputId": "32328424-3fca-40bf-c3fd-817c87e34cbe"
      },
      "execution_count": null,
      "outputs": [
        {
          "output_type": "stream",
          "name": "stdout",
          "text": [
            "140242197865008 140242197923952\n",
            "140242197532256 140242197435488\n",
            "140242197539088 140242197635152\n"
          ]
        }
      ]
    },
    {
      "cell_type": "markdown",
      "source": [
        "##Lambda Function"
      ],
      "metadata": {
        "id": "P--TW4nx030G"
      }
    },
    {
      "cell_type": "code",
      "source": [
        "def sqr(x):\n",
        "  return 2*x\n",
        "sqr(10)"
      ],
      "metadata": {
        "colab": {
          "base_uri": "https://localhost:8080/"
        },
        "id": "c5LY5OJrpIiw",
        "outputId": "e67e764a-49aa-4470-e6c0-d29ec4353591"
      },
      "execution_count": null,
      "outputs": [
        {
          "output_type": "execute_result",
          "data": {
            "text/plain": [
              "20"
            ]
          },
          "metadata": {},
          "execution_count": 8
        }
      ]
    },
    {
      "cell_type": "code",
      "source": [
        "a=lambda x : x*2\n",
        "a(10)"
      ],
      "metadata": {
        "colab": {
          "base_uri": "https://localhost:8080/"
        },
        "id": "uMSRI_6O2dO3",
        "outputId": "5384c242-6e8e-402a-8173-b577b8474299"
      },
      "execution_count": null,
      "outputs": [
        {
          "output_type": "execute_result",
          "data": {
            "text/plain": [
              "20"
            ]
          },
          "metadata": {},
          "execution_count": 9
        }
      ]
    },
    {
      "cell_type": "code",
      "source": [
        "(lambda x : x*2)(10)"
      ],
      "metadata": {
        "colab": {
          "base_uri": "https://localhost:8080/"
        },
        "id": "KDvR1r2L2jm4",
        "outputId": "ff6f0e09-09b8-4bed-be2a-7655d9d4921f"
      },
      "execution_count": null,
      "outputs": [
        {
          "output_type": "execute_result",
          "data": {
            "text/plain": [
              "20"
            ]
          },
          "metadata": {},
          "execution_count": 10
        }
      ]
    },
    {
      "cell_type": "code",
      "source": [
        "(lambda x : x%2)(10)"
      ],
      "metadata": {
        "colab": {
          "base_uri": "https://localhost:8080/"
        },
        "id": "b10NZbLm3HDt",
        "outputId": "6299ca69-1f09-4675-905f-1edc8b7698a3"
      },
      "execution_count": null,
      "outputs": [
        {
          "output_type": "execute_result",
          "data": {
            "text/plain": [
              "0"
            ]
          },
          "metadata": {},
          "execution_count": 11
        }
      ]
    },
    {
      "cell_type": "code",
      "source": [
        "def add(x,y):\n",
        "  return x+y\n",
        "add(10,20)"
      ],
      "metadata": {
        "colab": {
          "base_uri": "https://localhost:8080/"
        },
        "id": "oTUZ8LUx4P7E",
        "outputId": "71cd94e8-4b9f-421e-f3f7-045c5cab2d4f"
      },
      "execution_count": null,
      "outputs": [
        {
          "output_type": "execute_result",
          "data": {
            "text/plain": [
              "30"
            ]
          },
          "metadata": {},
          "execution_count": 12
        }
      ]
    },
    {
      "cell_type": "code",
      "source": [
        "(lambda x,y : x+y)(10,20)"
      ],
      "metadata": {
        "colab": {
          "base_uri": "https://localhost:8080/"
        },
        "id": "OZEpB7M9NbGI",
        "outputId": "9c1ace5f-312f-4ee0-c2dc-c3096dc83fd3"
      },
      "execution_count": null,
      "outputs": [
        {
          "output_type": "execute_result",
          "data": {
            "text/plain": [
              "30"
            ]
          },
          "metadata": {},
          "execution_count": 15
        }
      ]
    },
    {
      "cell_type": "code",
      "source": [
        "a=lambda x : 3*x\n",
        "a(3)"
      ],
      "metadata": {
        "colab": {
          "base_uri": "https://localhost:8080/"
        },
        "id": "XMJALt_QNnUx",
        "outputId": "c87b9f87-b9de-44a3-da01-4d5a486dbfad"
      },
      "execution_count": null,
      "outputs": [
        {
          "output_type": "execute_result",
          "data": {
            "text/plain": [
              "9"
            ]
          },
          "metadata": {},
          "execution_count": 16
        }
      ]
    },
    {
      "cell_type": "code",
      "source": [
        "a = \"stop\" if signal == 'red' else go"
      ],
      "metadata": {
        "id": "CCXdL95eQQNp",
        "colab": {
          "base_uri": "https://localhost:8080/",
          "height": 170
        },
        "outputId": "33c44a0a-acab-418c-e6bf-2222aaf2558b"
      },
      "execution_count": 1,
      "outputs": [
        {
          "output_type": "error",
          "ename": "NameError",
          "evalue": "ignored",
          "traceback": [
            "\u001b[0;31m---------------------------------------------------------------------------\u001b[0m",
            "\u001b[0;31mNameError\u001b[0m                                 Traceback (most recent call last)",
            "\u001b[0;32m<ipython-input-1-5aaa52004c32>\u001b[0m in \u001b[0;36m<module>\u001b[0;34m()\u001b[0m\n\u001b[0;32m----> 1\u001b[0;31m \u001b[0ma\u001b[0m \u001b[0;34m=\u001b[0m \u001b[0;34m\"stop\"\u001b[0m \u001b[0;32mif\u001b[0m \u001b[0msignal\u001b[0m \u001b[0;34m==\u001b[0m \u001b[0;34m'red'\u001b[0m \u001b[0;32melse\u001b[0m \u001b[0mgo\u001b[0m\u001b[0;34m\u001b[0m\u001b[0;34m\u001b[0m\u001b[0m\n\u001b[0m",
            "\u001b[0;31mNameError\u001b[0m: name 'signal' is not defined"
          ]
        }
      ]
    },
    {
      "cell_type": "code",
      "source": [
        ""
      ],
      "metadata": {
        "id": "CfwXHvHaooZB"
      },
      "execution_count": null,
      "outputs": []
    }
  ]
}