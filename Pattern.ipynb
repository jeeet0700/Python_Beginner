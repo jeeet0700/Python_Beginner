{
  "nbformat": 4,
  "nbformat_minor": 0,
  "metadata": {
    "colab": {
      "name": "Pattern.ipynb",
      "provenance": [],
      "collapsed_sections": [],
      "authorship_tag": "ABX9TyMF3jP5SialM8NEtk/IRxIl",
      "include_colab_link": true
    },
    "kernelspec": {
      "name": "python3",
      "display_name": "Python 3"
    },
    "language_info": {
      "name": "python"
    }
  },
  "cells": [
    {
      "cell_type": "markdown",
      "metadata": {
        "id": "view-in-github",
        "colab_type": "text"
      },
      "source": [
        "<a href=\"https://colab.research.google.com/github/jeeet0700/Python_Beginner/blob/master/Pattern.ipynb\" target=\"_parent\"><img src=\"https://colab.research.google.com/assets/colab-badge.svg\" alt=\"Open In Colab\"/></a>"
      ]
    },
    {
      "cell_type": "code",
      "source": [
        "n=int(input())\n",
        "m=int(input())\n",
        "for i in range(n):\n",
        "  for j in range(m):\n",
        "    print(\"*\",end=\"\")\n",
        "  print(\"\\n\\n\")"
      ],
      "metadata": {
        "id": "WVgaqtOTASz9",
        "colab": {
          "base_uri": "https://localhost:8080/"
        },
        "outputId": "26261ddb-65a7-4b4b-85ee-aec7ae03ae2f"
      },
      "execution_count": null,
      "outputs": [
        {
          "output_type": "stream",
          "name": "stdout",
          "text": [
            "2\n",
            "3\n",
            "***\n",
            "\n",
            "\n",
            "***\n",
            "\n",
            "\n"
          ]
        }
      ]
    },
    {
      "cell_type": "code",
      "source": [
        "n=int(input())\n",
        "for i in range(n+1):\n",
        "    for j in range(i):\n",
        "        print(\"*\",end=\"\")\n",
        "    print()"
      ],
      "metadata": {
        "colab": {
          "base_uri": "https://localhost:8080/"
        },
        "id": "yoTr3OOlZNzR",
        "outputId": "347cb8c0-9a3e-4898-bfe6-b1d8660a0945"
      },
      "execution_count": null,
      "outputs": [
        {
          "output_type": "stream",
          "name": "stdout",
          "text": [
            "5\n",
            "\n",
            "*\n",
            "**\n",
            "***\n",
            "****\n",
            "*****\n"
          ]
        }
      ]
    },
    {
      "cell_type": "code",
      "source": [
        "# n=int(input())\n",
        "print(\"start\")\n",
        "for i in range(1,5):\n",
        "  for j in range(1,i):\n",
        "    print(j,end=\" \")\n",
        "  print()"
      ],
      "metadata": {
        "colab": {
          "base_uri": "https://localhost:8080/"
        },
        "id": "Go33n039PvpR",
        "outputId": "e2e3ab93-89f9-4a36-8ca1-21af75ca2262"
      },
      "execution_count": null,
      "outputs": [
        {
          "output_type": "stream",
          "name": "stdout",
          "text": [
            "start\n",
            "\n",
            "1 \n",
            "1 2 \n",
            "1 2 3 \n"
          ]
        }
      ]
    },
    {
      "cell_type": "code",
      "source": [
        "n=int(input())\n",
        "for i in range(1,n+1):\n",
        "  for j in range(1,i+1):\n",
        "    print(j,end=\"\")\n",
        "    if j!=i:\n",
        "      print(\" \",end=\"\")\n",
        "  print()"
      ],
      "metadata": {
        "colab": {
          "base_uri": "https://localhost:8080/"
        },
        "id": "offWpcvouklM",
        "outputId": "8b970e99-b3e3-47af-ed31-0c92fdbe5711"
      },
      "execution_count": null,
      "outputs": [
        {
          "output_type": "stream",
          "name": "stdout",
          "text": [
            "4\n",
            "1\n",
            "1 2\n",
            "1 2 3\n",
            "1 2 3 4\n"
          ]
        }
      ]
    },
    {
      "cell_type": "code",
      "source": [
        "n=int(input())\n",
        "for i in range(1,n+1):\n",
        "  for j in range(n+1-i):\n",
        "    print(\"*\",end=\"\")\n",
        "  print()"
      ],
      "metadata": {
        "colab": {
          "base_uri": "https://localhost:8080/"
        },
        "id": "vuu50GTDjtR4",
        "outputId": "08b69493-da5b-4b43-c485-1a273d16978d"
      },
      "execution_count": null,
      "outputs": [
        {
          "output_type": "stream",
          "name": "stdout",
          "text": [
            "5\n",
            "*****\n",
            "****\n",
            "***\n",
            "**\n",
            "*\n"
          ]
        }
      ]
    },
    {
      "cell_type": "code",
      "source": [
        "n=int(input())\n",
        "for i in range(1,n+1):\n",
        "  for j in range(1,i+1):\n",
        "    if j%2==0:\n",
        "      print(\"*\",end=\" \")\n",
        "    else:\n",
        "      print(j,end=\" \")\n",
        "  print()"
      ],
      "metadata": {
        "colab": {
          "base_uri": "https://localhost:8080/"
        },
        "id": "1e1x1xNlni1F",
        "outputId": "e2f49e05-cdf8-41d6-d8ed-aa62ed09cc29"
      },
      "execution_count": null,
      "outputs": [
        {
          "output_type": "stream",
          "name": "stdout",
          "text": [
            "5\n",
            "1 \n",
            "1 * \n",
            "1 * 3 \n",
            "1 * 3 * \n",
            "1 * 3 * 5 \n"
          ]
        }
      ]
    },
    {
      "cell_type": "code",
      "source": [
        "n=int(input())\n",
        "for i in range(1,n+1):\n",
        "    for j in range(1,i+1):\n",
        "        if j%2==0:\n",
        "            print(\" \",end=\"\")\n",
        "        else:\n",
        "            print(j,end=\"\")\n",
        "    print()"
      ],
      "metadata": {
        "colab": {
          "base_uri": "https://localhost:8080/"
        },
        "id": "jDcLdNpFrG0d",
        "outputId": "8d7cf9be-a679-495c-8e2b-3935eb7ca3b8"
      },
      "execution_count": null,
      "outputs": [
        {
          "output_type": "stream",
          "name": "stdout",
          "text": [
            "5\n",
            "1\n",
            "1 \n",
            "1 3\n",
            "1 3 \n",
            "1 3 5\n"
          ]
        }
      ]
    },
    {
      "cell_type": "code",
      "source": [
        "n=int(input())\n",
        "for i in range(1,n+1):\n",
        "  print(\"*\",end=\" \")\n",
        "  for j in range(n+1-i):\n",
        "    print(\" \",end=\"\")\n",
        "  print(\"*\",end=\" \")\n",
        "  print()"
      ],
      "metadata": {
        "colab": {
          "base_uri": "https://localhost:8080/"
        },
        "id": "09OCTcchvRZt",
        "outputId": "d8852552-56d3-400f-b42f-2f8db06e221b"
      },
      "execution_count": null,
      "outputs": [
        {
          "output_type": "stream",
          "name": "stdout",
          "text": [
            "5\n",
            "*      * \n",
            "*     * \n",
            "*    * \n",
            "*   * \n",
            "*  * \n"
          ]
        }
      ]
    },
    {
      "cell_type": "code",
      "source": [
        "n=int(input())\n",
        "for i in range(1,n+1):\n",
        "  for j in range(n-i):\n",
        "    print(\" \",end=\"\")\n",
        "  for j in range(i):\n",
        "    print(\"*\",end=\"\")\n",
        "  print()"
      ],
      "metadata": {
        "colab": {
          "base_uri": "https://localhost:8080/"
        },
        "id": "xIZ5ua1zjLyb",
        "outputId": "774fd9e9-39fe-4168-8cf2-877f4b9ee3cc"
      },
      "execution_count": null,
      "outputs": [
        {
          "output_type": "stream",
          "name": "stdout",
          "text": [
            "5\n",
            "    *\n",
            "   **\n",
            "  ***\n",
            " ****\n",
            "*****\n"
          ]
        }
      ]
    },
    {
      "cell_type": "code",
      "source": [
        "n=int(input())\n",
        "for i in range(1,n+1):\n",
        "  for j in range(1,n+2-i):\n",
        "    print(j,end=\" \")\n",
        "  print()"
      ],
      "metadata": {
        "colab": {
          "base_uri": "https://localhost:8080/"
        },
        "id": "KqyUSppHlaVl",
        "outputId": "bff74b8a-68fc-4d6c-c63f-93038e52653a"
      },
      "execution_count": null,
      "outputs": [
        {
          "output_type": "stream",
          "name": "stdout",
          "text": [
            "4\n",
            "1 2 3 4 \n",
            "1 2 3 \n",
            "1 2 \n",
            "1 \n"
          ]
        }
      ]
    },
    {
      "cell_type": "code",
      "source": [
        "n=int(input())\n",
        "for i in range(1,n+1):\n",
        "  for j in range(1,n+2-i):\n",
        "    # print(j,end=\" \")\n",
        "    if j!=n+1-i:\n",
        "        print(j,end=\" \")\n",
        "    else:\n",
        "        print(j,end=\"\")\n",
        "  print()"
      ],
      "metadata": {
        "colab": {
          "base_uri": "https://localhost:8080/"
        },
        "id": "JCAmkiDYm8wI",
        "outputId": "a10666b2-d76a-4e24-fd09-49c1193d10c0"
      },
      "execution_count": null,
      "outputs": [
        {
          "output_type": "stream",
          "name": "stdout",
          "text": [
            "4\n",
            "1 2 3 4\n",
            "1 2 3\n",
            "1 2\n",
            "1\n"
          ]
        }
      ]
    },
    {
      "cell_type": "code",
      "source": [
        "n=int(input())\n",
        "for i in range(1,n+1):\n",
        "  for j in range(n-i+1):\n",
        "    print(\"*\",end=\"\")\n",
        "  for j in range(2*i-2):\n",
        "    print(\" \",end=\"\")\n",
        "  for i in range(n-i+1):\n",
        "    print(\"*\",end=\"\")\n",
        "  print()"
      ],
      "metadata": {
        "colab": {
          "base_uri": "https://localhost:8080/"
        },
        "id": "ZnYk-HnpUAhA",
        "outputId": "bcfa9d39-070d-454b-fd43-52158c3d58a2"
      },
      "execution_count": null,
      "outputs": [
        {
          "output_type": "stream",
          "name": "stdout",
          "text": [
            "5\n",
            "**********\n",
            "****  ****\n",
            "***    ***\n",
            "**      **\n",
            "*        *\n"
          ]
        }
      ]
    },
    {
      "cell_type": "code",
      "source": [
        "n=int(input())\n",
        "for i in range(1,n+1):\n",
        "  for j in range(i):\n",
        "    print(\"*\",end=\"\")\n",
        "  for j in range(2*n-2*i):\n",
        "    print(\" \",end=\"\")\n",
        "  for i in range(i):\n",
        "    print(\"*\",end=\"\")\n",
        "  print()"
      ],
      "metadata": {
        "colab": {
          "base_uri": "https://localhost:8080/"
        },
        "id": "pEytvwXNYFSO",
        "outputId": "27f8cecf-286c-4a60-e127-d95350385b13"
      },
      "execution_count": null,
      "outputs": [
        {
          "output_type": "stream",
          "name": "stdout",
          "text": [
            "5\n",
            "*        *\n",
            "**      **\n",
            "***    ***\n",
            "****  ****\n",
            "**********\n"
          ]
        }
      ]
    },
    {
      "cell_type": "code",
      "source": [
        "n=int(input())\n",
        "k=1\n",
        "for i in range(1,n+1):\n",
        "  for j in range(1,i+1):\n",
        "    print(k,end=\"\")\n",
        "    k=k+1\n",
        "  print()"
      ],
      "metadata": {
        "colab": {
          "base_uri": "https://localhost:8080/"
        },
        "id": "WKeaULokYfFM",
        "outputId": "34880231-2938-4e75-a1ee-b21f3f6ebcd4"
      },
      "execution_count": null,
      "outputs": [
        {
          "output_type": "stream",
          "name": "stdout",
          "text": [
            "4\n",
            "1\n",
            "23\n",
            "456\n",
            "78910\n"
          ]
        }
      ]
    },
    {
      "cell_type": "code",
      "source": [
        "n=int(input())\n",
        "for i in range(1,n+1):\n",
        "  print(\"*\",end=\" \")\n",
        "  for j in range(n+1-i):\n",
        "    print(\" \",end=\"\")\n",
        "  print(\"*\",end=\" \")\n",
        "  print()"
      ],
      "metadata": {
        "colab": {
          "base_uri": "https://localhost:8080/"
        },
        "id": "7H3Y2P3mborn",
        "outputId": "c8e2078f-0219-4a22-dc5b-f9b74782b3c9"
      },
      "execution_count": null,
      "outputs": [
        {
          "output_type": "stream",
          "name": "stdout",
          "text": [
            "7\n",
            "*        * \n",
            "*       * \n",
            "*      * \n",
            "*     * \n",
            "*    * \n",
            "*   * \n",
            "*  * \n"
          ]
        }
      ]
    },
    {
      "cell_type": "code",
      "source": [
        "n=int(input())\n",
        "for i in range(1,n+1):\n",
        "  for j in range(1,i+1):\n",
        "    print(\"*\",end=\"\")\n",
        "  print()\n",
        "for i in range(1,n):\n",
        "  for j in range(n-i):\n",
        "    print(\"*\",end=\"\")\n",
        "  print()"
      ],
      "metadata": {
        "colab": {
          "base_uri": "https://localhost:8080/"
        },
        "id": "9wpmf1ybcAVo",
        "outputId": "db9762ff-fa71-489e-d4fa-004167b2acf1"
      },
      "execution_count": null,
      "outputs": [
        {
          "output_type": "stream",
          "name": "stdout",
          "text": [
            "5\n",
            "*\n",
            "**\n",
            "***\n",
            "****\n",
            "*****\n",
            "****\n",
            "***\n",
            "**\n",
            "*\n"
          ]
        }
      ]
    },
    {
      "cell_type": "code",
      "source": [
        "n=int(input())\n",
        "k=0\n",
        "for i in range(0, n):\n",
        "  for j in range(0, k):\n",
        "    print(end=\" \")\n",
        "    k = k - 1\n",
        "    for j in range(0, i+1):\n",
        "      print(\"* \", end=\"\")"
      ],
      "metadata": {
        "colab": {
          "base_uri": "https://localhost:8080/"
        },
        "id": "qdrHgJmbeSWV",
        "outputId": "b48090e8-d430-49aa-9dd6-31432b4c10c1"
      },
      "execution_count": null,
      "outputs": [
        {
          "name": "stdout",
          "output_type": "stream",
          "text": [
            "5\n"
          ]
        }
      ]
    },
    {
      "cell_type": "code",
      "source": [
        "# Python 3.x code to demonstrate star pattern\n",
        "\n",
        "# Function to demonstrate printing pattern triangle\n",
        "def triangle(n):\n",
        "\t\n",
        "\t# number of spaces\n",
        "\tk = n - 1\n",
        "\n",
        "\t# outer loop to handle number of rows\n",
        "\tfor i in range(0, n):\n",
        "\t\n",
        "\t\t# inner loop to handle number spaces\n",
        "\t\t# values changing acc. to requirement\n",
        "\t\tfor j in range(0, k):\n",
        "\t\t\tprint(\"0\",end=\" \")\n",
        "\t\n",
        "\t\t# decrementing k after each loop\n",
        "\t\tk = k - 1\n",
        "\t\n",
        "\t\t# inner loop to handle number of columns\n",
        "\t\t# values changing acc. to outer loop\n",
        "\t\tfor j in range(0, i+1):\n",
        "\t\t\n",
        "\t\t\t# printing stars\n",
        "\t\t\tprint(\"*\", end=\"\")\n",
        "\t\n",
        "\t\t# ending line after each row\n",
        "\t\tprint(\"\\r\")\n",
        "\n",
        "# Driver Code\n",
        "n = 5\n",
        "triangle(n)\n"
      ],
      "metadata": {
        "colab": {
          "base_uri": "https://localhost:8080/"
        },
        "id": "Zu4BFz4jrLKe",
        "outputId": "98b636e1-0286-40e1-e24c-9b491dc871fc"
      },
      "execution_count": null,
      "outputs": [
        {
          "output_type": "stream",
          "name": "stdout",
          "text": [
            "0 0 0 0 *\r\n",
            "0 0 0 **\r\n",
            "0 0 ***\r\n",
            "0 ****\r\n",
            "*****\r\n"
          ]
        }
      ]
    },
    {
      "cell_type": "code",
      "source": [
        "rows = int(input(\"Enter number of rows: \"))\n",
        "\n",
        "k = 0\n",
        "count=0\n",
        "count1=0\n",
        "\n",
        "for i in range(1, rows+1):\n",
        "    for space in range(1, (rows-i)+1):\n",
        "        print(\"  \", end=\"\")\n",
        "        count+=1\n",
        "    \n",
        "    while k!=((2*i)-1):\n",
        "        if count<=rows-1:\n",
        "            print(i+k, end=\" \")\n",
        "            count+=1\n",
        "        else:\n",
        "            count1+=1\n",
        "            print(i+k-(2*count1), end=\" \")\n",
        "        k += 1\n",
        "    \n",
        "    count1 = count = k = 0\n",
        "    print()"
      ],
      "metadata": {
        "id": "vWqHc2cir4HZ",
        "colab": {
          "base_uri": "https://localhost:8080/"
        },
        "outputId": "1826dc40-ff27-4f77-bccd-6aa52dcfba4c"
      },
      "execution_count": null,
      "outputs": [
        {
          "output_type": "stream",
          "name": "stdout",
          "text": [
            "Enter number of rows: 5\n",
            "        1 \n",
            "      2 3 2 \n",
            "    3 4 5 4 3 \n",
            "  4 5 6 7 6 5 4 \n",
            "5 6 7 8 9 8 7 6 5 \n"
          ]
        }
      ]
    },
    {
      "cell_type": "code",
      "source": [
        "n = 6\n",
        "for i in range(1, n+1):\n",
        "    for j in range(i):\n",
        "        # print star only at start and end of the row\n",
        "        if j == 0 or j == i-1:\n",
        "            print('*', end='')\n",
        "        # print only star if it's last row\n",
        "        else:\n",
        "            if i != n:\n",
        "                print(' ', end='')\n",
        "            else:\n",
        "                print('*', end='')\n",
        "    print()"
      ],
      "metadata": {
        "id": "_xpsfGZiOiCf",
        "colab": {
          "base_uri": "https://localhost:8080/"
        },
        "outputId": "43204226-6a87-4aac-c8bb-e1842cf906b7"
      },
      "execution_count": null,
      "outputs": [
        {
          "output_type": "stream",
          "name": "stdout",
          "text": [
            "*\n",
            "**\n",
            "* *\n",
            "*  *\n",
            "*   *\n",
            "******\n"
          ]
        }
      ]
    },
    {
      "cell_type": "code",
      "source": [
        "n=7\n",
        "for i in range(0,n+1):\n",
        "  for j in range(0,n-i):\n",
        "    print(\"*\",end=\"\")\n",
        "  print()"
      ],
      "metadata": {
        "colab": {
          "base_uri": "https://localhost:8080/"
        },
        "id": "Lzu4wxOMTckY",
        "outputId": "948d4ec9-5fdd-4374-80ec-c2fc065d4f82"
      },
      "execution_count": null,
      "outputs": [
        {
          "output_type": "stream",
          "name": "stdout",
          "text": [
            "*******\n",
            "******\n",
            "*****\n",
            "****\n",
            "***\n",
            "**\n",
            "*\n",
            "\n"
          ]
        }
      ]
    },
    {
      "cell_type": "code",
      "source": [
        "n=7\n",
        "for i in range(0,n+1):\n",
        "  for j in range(0,n-i):\n",
        "    if j==\n",
        "    print(\"*\",end=\"\")\n",
        "  print()"
      ],
      "metadata": {
        "colab": {
          "base_uri": "https://localhost:8080/"
        },
        "id": "XaIAdKHQUVPS",
        "outputId": "2cf5f9e6-6566-48d2-8b52-bae547423d0c"
      },
      "execution_count": null,
      "outputs": [
        {
          "output_type": "stream",
          "name": "stdout",
          "text": [
            "*******\n",
            "******\n",
            "*****\n",
            "****\n",
            "***\n",
            "**\n",
            "*\n",
            "\n"
          ]
        }
      ]
    },
    {
      "cell_type": "code",
      "source": [
        "n = int(input())\n",
        "for i in range(n, 0, -1):\n",
        "    for j in range(i, 0, -1):\n",
        "        if i == 1 or i == n or j == 1 or j == i:\n",
        "            print('*', end = '')\n",
        "        else:\n",
        "            print(' ', end = '')\n",
        "    print()"
      ],
      "metadata": {
        "colab": {
          "base_uri": "https://localhost:8080/"
        },
        "id": "QSQZjoyrnaKr",
        "outputId": "476ec030-b6dc-4c94-a6d2-ccc1efecb4b7"
      },
      "execution_count": null,
      "outputs": [
        {
          "output_type": "stream",
          "name": "stdout",
          "text": [
            "4\n",
            "****\n",
            "* *\n",
            "**\n",
            "*\n"
          ]
        }
      ]
    },
    {
      "cell_type": "code",
      "source": [
        "for i in range(5):\n",
        "  print(\"*\",end=\" \")"
      ],
      "metadata": {
        "id": "isAhRSviqHHT",
        "colab": {
          "base_uri": "https://localhost:8080/"
        },
        "outputId": "c4bc8918-569d-4e1e-8c0a-7eda61ffb728"
      },
      "execution_count": 5,
      "outputs": [
        {
          "output_type": "stream",
          "name": "stdout",
          "text": [
            "* * * * * "
          ]
        }
      ]
    },
    {
      "cell_type": "code",
      "source": [
        "for i in range(3):\n",
        "  for j in range(3):\n",
        "    print(\"*\",end=\" \")\n",
        "  print()"
      ],
      "metadata": {
        "colab": {
          "base_uri": "https://localhost:8080/"
        },
        "id": "71p3omP74DfD",
        "outputId": "85458729-ffd8-4790-d61b-0ac88b430ca3"
      },
      "execution_count": 7,
      "outputs": [
        {
          "output_type": "stream",
          "name": "stdout",
          "text": [
            "* * * \n",
            "* * * \n",
            "* * * \n"
          ]
        }
      ]
    },
    {
      "cell_type": "code",
      "source": [
        "for i in range(5):\n",
        "  for j in range(i):\n",
        "    print(j,end=\" \")\n",
        "  print()"
      ],
      "metadata": {
        "colab": {
          "base_uri": "https://localhost:8080/"
        },
        "id": "5caiHXtV4q7a",
        "outputId": "247b0813-dc6a-432e-f6a7-4b17535aab14"
      },
      "execution_count": 9,
      "outputs": [
        {
          "output_type": "stream",
          "name": "stdout",
          "text": [
            "\n",
            "0 \n",
            "0 1 \n",
            "0 1 2 \n",
            "0 1 2 3 \n"
          ]
        }
      ]
    },
    {
      "cell_type": "code",
      "source": [
        "for i in range(1,6):\n",
        "  for j in range(i):\n",
        "    print(j,end=\" \")\n",
        "  print()"
      ],
      "metadata": {
        "colab": {
          "base_uri": "https://localhost:8080/"
        },
        "id": "gKTIe7Sp6BAM",
        "outputId": "8d8477ae-35b6-4dab-fcdb-5200fea5a943"
      },
      "execution_count": 10,
      "outputs": [
        {
          "output_type": "stream",
          "name": "stdout",
          "text": [
            "0 \n",
            "0 1 \n",
            "0 1 2 \n",
            "0 1 2 3 \n",
            "0 1 2 3 4 \n"
          ]
        }
      ]
    },
    {
      "cell_type": "code",
      "source": [
        ""
      ],
      "metadata": {
        "id": "ax-P-SCB6PET"
      },
      "execution_count": null,
      "outputs": []
    }
  ]
}